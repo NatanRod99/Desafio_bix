{
  "cells": [
    {
      "cell_type": "markdown",
      "metadata": {
        "id": "view-in-github",
        "colab_type": "text"
      },
      "source": [
        "<a href=\"https://colab.research.google.com/github/NatanRod99/Desafio_bix/blob/main/C%C3%B3pia_de_Desafio_Bix_Tec.ipynb\" target=\"_parent\"><img src=\"https://colab.research.google.com/assets/colab-badge.svg\" alt=\"Open In Colab\"/></a>"
      ]
    },
    {
      "cell_type": "code",
      "source": [
        "import pandas as pd\n",
        "import numpy as np\n",
        "import matplotlib.pyplot as plt\n",
        "from sklearn.preprocessing import LabelEncoder\n",
        "from sklearn.model_selection import train_test_split\n",
        "from sklearn.preprocessing import OneHotEncoder\n",
        "from sklearn.tree import DecisionTreeClassifier\n",
        "from sklearn.linear_model import LogisticRegression\n",
        "from sklearn.metrics import roc_auc_score, confusion_matrix\n",
        "from sklearn.metrics import accuracy_score\n",
        "from sklearn.model_selection import cross_val_score\n",
        "from sklearn.preprocessing import StandardScaler, LabelEncoder\n",
        "from sklearn.metrics import confusion_matrix\n",
        "from sklearn.preprocessing import StandardScaler\n",
        "from sklearn.metrics import roc_auc_score, accuracy_score"
      ],
      "metadata": {
        "id": "YZh31sjgYa1i"
      },
      "execution_count": null,
      "outputs": []
    },
    {
      "cell_type": "code",
      "source": [
        "# Fazendo o carregamento dos dados\n",
        "df_previous_years = pd.read_csv(\"/content/air_system_previous_years.csv\")\n",
        "df_present_year = pd.read_csv(\"/content/air_system_present_year.csv\")"
      ],
      "metadata": {
        "id": "rBSdH8GLYax6"
      },
      "execution_count": null,
      "outputs": []
    },
    {
      "cell_type": "code",
      "source": [
        "df_previous_years.head()"
      ],
      "metadata": {
        "id": "VG-JMw375RWW",
        "colab": {
          "base_uri": "https://localhost:8080/",
          "height": 236
        },
        "outputId": "fba9be44-7fd0-4960-9710-af569f8b995d"
      },
      "execution_count": null,
      "outputs": [
        {
          "output_type": "execute_result",
          "data": {
            "text/plain": [
              "  class  aa_000 ab_000      ac_000 ad_000 ae_000 af_000 ag_000 ag_001 ag_002  \\\n",
              "0   neg   76698     na  2130706438    280      0      0      0      0      0   \n",
              "1   neg   33058     na           0     na      0      0      0      0      0   \n",
              "2   neg   41040     na         228    100      0      0      0      0      0   \n",
              "3   neg      12      0          70     66      0     10      0      0      0   \n",
              "4   neg   60874     na        1368    458      0      0      0      0      0   \n",
              "\n",
              "   ...   ee_002  ee_003  ee_004  ee_005  ee_006  ee_007  ee_008 ee_009 ef_000  \\\n",
              "0  ...  1240520  493384  721044  469792  339156  157956   73224      0      0   \n",
              "1  ...   421400  178064  293306  245416  133654   81140   97576   1500      0   \n",
              "2  ...   277378  159812  423992  409564  320746  158022   95128    514      0   \n",
              "3  ...      240      46      58      44      10       0       0      0      4   \n",
              "4  ...   622012  229790  405298  347188  286954  311560  433954   1218      0   \n",
              "\n",
              "  eg_000  \n",
              "0      0  \n",
              "1      0  \n",
              "2      0  \n",
              "3     32  \n",
              "4      0  \n",
              "\n",
              "[5 rows x 171 columns]"
            ],
            "text/html": [
              "\n",
              "  <div id=\"df-28c05530-8a2c-4926-9a18-d9f6fad8ee92\" class=\"colab-df-container\">\n",
              "    <div>\n",
              "<style scoped>\n",
              "    .dataframe tbody tr th:only-of-type {\n",
              "        vertical-align: middle;\n",
              "    }\n",
              "\n",
              "    .dataframe tbody tr th {\n",
              "        vertical-align: top;\n",
              "    }\n",
              "\n",
              "    .dataframe thead th {\n",
              "        text-align: right;\n",
              "    }\n",
              "</style>\n",
              "<table border=\"1\" class=\"dataframe\">\n",
              "  <thead>\n",
              "    <tr style=\"text-align: right;\">\n",
              "      <th></th>\n",
              "      <th>class</th>\n",
              "      <th>aa_000</th>\n",
              "      <th>ab_000</th>\n",
              "      <th>ac_000</th>\n",
              "      <th>ad_000</th>\n",
              "      <th>ae_000</th>\n",
              "      <th>af_000</th>\n",
              "      <th>ag_000</th>\n",
              "      <th>ag_001</th>\n",
              "      <th>ag_002</th>\n",
              "      <th>...</th>\n",
              "      <th>ee_002</th>\n",
              "      <th>ee_003</th>\n",
              "      <th>ee_004</th>\n",
              "      <th>ee_005</th>\n",
              "      <th>ee_006</th>\n",
              "      <th>ee_007</th>\n",
              "      <th>ee_008</th>\n",
              "      <th>ee_009</th>\n",
              "      <th>ef_000</th>\n",
              "      <th>eg_000</th>\n",
              "    </tr>\n",
              "  </thead>\n",
              "  <tbody>\n",
              "    <tr>\n",
              "      <th>0</th>\n",
              "      <td>neg</td>\n",
              "      <td>76698</td>\n",
              "      <td>na</td>\n",
              "      <td>2130706438</td>\n",
              "      <td>280</td>\n",
              "      <td>0</td>\n",
              "      <td>0</td>\n",
              "      <td>0</td>\n",
              "      <td>0</td>\n",
              "      <td>0</td>\n",
              "      <td>...</td>\n",
              "      <td>1240520</td>\n",
              "      <td>493384</td>\n",
              "      <td>721044</td>\n",
              "      <td>469792</td>\n",
              "      <td>339156</td>\n",
              "      <td>157956</td>\n",
              "      <td>73224</td>\n",
              "      <td>0</td>\n",
              "      <td>0</td>\n",
              "      <td>0</td>\n",
              "    </tr>\n",
              "    <tr>\n",
              "      <th>1</th>\n",
              "      <td>neg</td>\n",
              "      <td>33058</td>\n",
              "      <td>na</td>\n",
              "      <td>0</td>\n",
              "      <td>na</td>\n",
              "      <td>0</td>\n",
              "      <td>0</td>\n",
              "      <td>0</td>\n",
              "      <td>0</td>\n",
              "      <td>0</td>\n",
              "      <td>...</td>\n",
              "      <td>421400</td>\n",
              "      <td>178064</td>\n",
              "      <td>293306</td>\n",
              "      <td>245416</td>\n",
              "      <td>133654</td>\n",
              "      <td>81140</td>\n",
              "      <td>97576</td>\n",
              "      <td>1500</td>\n",
              "      <td>0</td>\n",
              "      <td>0</td>\n",
              "    </tr>\n",
              "    <tr>\n",
              "      <th>2</th>\n",
              "      <td>neg</td>\n",
              "      <td>41040</td>\n",
              "      <td>na</td>\n",
              "      <td>228</td>\n",
              "      <td>100</td>\n",
              "      <td>0</td>\n",
              "      <td>0</td>\n",
              "      <td>0</td>\n",
              "      <td>0</td>\n",
              "      <td>0</td>\n",
              "      <td>...</td>\n",
              "      <td>277378</td>\n",
              "      <td>159812</td>\n",
              "      <td>423992</td>\n",
              "      <td>409564</td>\n",
              "      <td>320746</td>\n",
              "      <td>158022</td>\n",
              "      <td>95128</td>\n",
              "      <td>514</td>\n",
              "      <td>0</td>\n",
              "      <td>0</td>\n",
              "    </tr>\n",
              "    <tr>\n",
              "      <th>3</th>\n",
              "      <td>neg</td>\n",
              "      <td>12</td>\n",
              "      <td>0</td>\n",
              "      <td>70</td>\n",
              "      <td>66</td>\n",
              "      <td>0</td>\n",
              "      <td>10</td>\n",
              "      <td>0</td>\n",
              "      <td>0</td>\n",
              "      <td>0</td>\n",
              "      <td>...</td>\n",
              "      <td>240</td>\n",
              "      <td>46</td>\n",
              "      <td>58</td>\n",
              "      <td>44</td>\n",
              "      <td>10</td>\n",
              "      <td>0</td>\n",
              "      <td>0</td>\n",
              "      <td>0</td>\n",
              "      <td>4</td>\n",
              "      <td>32</td>\n",
              "    </tr>\n",
              "    <tr>\n",
              "      <th>4</th>\n",
              "      <td>neg</td>\n",
              "      <td>60874</td>\n",
              "      <td>na</td>\n",
              "      <td>1368</td>\n",
              "      <td>458</td>\n",
              "      <td>0</td>\n",
              "      <td>0</td>\n",
              "      <td>0</td>\n",
              "      <td>0</td>\n",
              "      <td>0</td>\n",
              "      <td>...</td>\n",
              "      <td>622012</td>\n",
              "      <td>229790</td>\n",
              "      <td>405298</td>\n",
              "      <td>347188</td>\n",
              "      <td>286954</td>\n",
              "      <td>311560</td>\n",
              "      <td>433954</td>\n",
              "      <td>1218</td>\n",
              "      <td>0</td>\n",
              "      <td>0</td>\n",
              "    </tr>\n",
              "  </tbody>\n",
              "</table>\n",
              "<p>5 rows × 171 columns</p>\n",
              "</div>\n",
              "    <div class=\"colab-df-buttons\">\n",
              "\n",
              "  <div class=\"colab-df-container\">\n",
              "    <button class=\"colab-df-convert\" onclick=\"convertToInteractive('df-28c05530-8a2c-4926-9a18-d9f6fad8ee92')\"\n",
              "            title=\"Convert this dataframe to an interactive table.\"\n",
              "            style=\"display:none;\">\n",
              "\n",
              "  <svg xmlns=\"http://www.w3.org/2000/svg\" height=\"24px\" viewBox=\"0 -960 960 960\">\n",
              "    <path d=\"M120-120v-720h720v720H120Zm60-500h600v-160H180v160Zm220 220h160v-160H400v160Zm0 220h160v-160H400v160ZM180-400h160v-160H180v160Zm440 0h160v-160H620v160ZM180-180h160v-160H180v160Zm440 0h160v-160H620v160Z\"/>\n",
              "  </svg>\n",
              "    </button>\n",
              "\n",
              "  <style>\n",
              "    .colab-df-container {\n",
              "      display:flex;\n",
              "      gap: 12px;\n",
              "    }\n",
              "\n",
              "    .colab-df-convert {\n",
              "      background-color: #E8F0FE;\n",
              "      border: none;\n",
              "      border-radius: 50%;\n",
              "      cursor: pointer;\n",
              "      display: none;\n",
              "      fill: #1967D2;\n",
              "      height: 32px;\n",
              "      padding: 0 0 0 0;\n",
              "      width: 32px;\n",
              "    }\n",
              "\n",
              "    .colab-df-convert:hover {\n",
              "      background-color: #E2EBFA;\n",
              "      box-shadow: 0px 1px 2px rgba(60, 64, 67, 0.3), 0px 1px 3px 1px rgba(60, 64, 67, 0.15);\n",
              "      fill: #174EA6;\n",
              "    }\n",
              "\n",
              "    .colab-df-buttons div {\n",
              "      margin-bottom: 4px;\n",
              "    }\n",
              "\n",
              "    [theme=dark] .colab-df-convert {\n",
              "      background-color: #3B4455;\n",
              "      fill: #D2E3FC;\n",
              "    }\n",
              "\n",
              "    [theme=dark] .colab-df-convert:hover {\n",
              "      background-color: #434B5C;\n",
              "      box-shadow: 0px 1px 3px 1px rgba(0, 0, 0, 0.15);\n",
              "      filter: drop-shadow(0px 1px 2px rgba(0, 0, 0, 0.3));\n",
              "      fill: #FFFFFF;\n",
              "    }\n",
              "  </style>\n",
              "\n",
              "    <script>\n",
              "      const buttonEl =\n",
              "        document.querySelector('#df-28c05530-8a2c-4926-9a18-d9f6fad8ee92 button.colab-df-convert');\n",
              "      buttonEl.style.display =\n",
              "        google.colab.kernel.accessAllowed ? 'block' : 'none';\n",
              "\n",
              "      async function convertToInteractive(key) {\n",
              "        const element = document.querySelector('#df-28c05530-8a2c-4926-9a18-d9f6fad8ee92');\n",
              "        const dataTable =\n",
              "          await google.colab.kernel.invokeFunction('convertToInteractive',\n",
              "                                                    [key], {});\n",
              "        if (!dataTable) return;\n",
              "\n",
              "        const docLinkHtml = 'Like what you see? Visit the ' +\n",
              "          '<a target=\"_blank\" href=https://colab.research.google.com/notebooks/data_table.ipynb>data table notebook</a>'\n",
              "          + ' to learn more about interactive tables.';\n",
              "        element.innerHTML = '';\n",
              "        dataTable['output_type'] = 'display_data';\n",
              "        await google.colab.output.renderOutput(dataTable, element);\n",
              "        const docLink = document.createElement('div');\n",
              "        docLink.innerHTML = docLinkHtml;\n",
              "        element.appendChild(docLink);\n",
              "      }\n",
              "    </script>\n",
              "  </div>\n",
              "\n",
              "\n",
              "<div id=\"df-42327e59-ace7-475e-ab56-4d705233816d\">\n",
              "  <button class=\"colab-df-quickchart\" onclick=\"quickchart('df-42327e59-ace7-475e-ab56-4d705233816d')\"\n",
              "            title=\"Suggest charts\"\n",
              "            style=\"display:none;\">\n",
              "\n",
              "<svg xmlns=\"http://www.w3.org/2000/svg\" height=\"24px\"viewBox=\"0 0 24 24\"\n",
              "     width=\"24px\">\n",
              "    <g>\n",
              "        <path d=\"M19 3H5c-1.1 0-2 .9-2 2v14c0 1.1.9 2 2 2h14c1.1 0 2-.9 2-2V5c0-1.1-.9-2-2-2zM9 17H7v-7h2v7zm4 0h-2V7h2v10zm4 0h-2v-4h2v4z\"/>\n",
              "    </g>\n",
              "</svg>\n",
              "  </button>\n",
              "\n",
              "<style>\n",
              "  .colab-df-quickchart {\n",
              "      --bg-color: #E8F0FE;\n",
              "      --fill-color: #1967D2;\n",
              "      --hover-bg-color: #E2EBFA;\n",
              "      --hover-fill-color: #174EA6;\n",
              "      --disabled-fill-color: #AAA;\n",
              "      --disabled-bg-color: #DDD;\n",
              "  }\n",
              "\n",
              "  [theme=dark] .colab-df-quickchart {\n",
              "      --bg-color: #3B4455;\n",
              "      --fill-color: #D2E3FC;\n",
              "      --hover-bg-color: #434B5C;\n",
              "      --hover-fill-color: #FFFFFF;\n",
              "      --disabled-bg-color: #3B4455;\n",
              "      --disabled-fill-color: #666;\n",
              "  }\n",
              "\n",
              "  .colab-df-quickchart {\n",
              "    background-color: var(--bg-color);\n",
              "    border: none;\n",
              "    border-radius: 50%;\n",
              "    cursor: pointer;\n",
              "    display: none;\n",
              "    fill: var(--fill-color);\n",
              "    height: 32px;\n",
              "    padding: 0;\n",
              "    width: 32px;\n",
              "  }\n",
              "\n",
              "  .colab-df-quickchart:hover {\n",
              "    background-color: var(--hover-bg-color);\n",
              "    box-shadow: 0 1px 2px rgba(60, 64, 67, 0.3), 0 1px 3px 1px rgba(60, 64, 67, 0.15);\n",
              "    fill: var(--button-hover-fill-color);\n",
              "  }\n",
              "\n",
              "  .colab-df-quickchart-complete:disabled,\n",
              "  .colab-df-quickchart-complete:disabled:hover {\n",
              "    background-color: var(--disabled-bg-color);\n",
              "    fill: var(--disabled-fill-color);\n",
              "    box-shadow: none;\n",
              "  }\n",
              "\n",
              "  .colab-df-spinner {\n",
              "    border: 2px solid var(--fill-color);\n",
              "    border-color: transparent;\n",
              "    border-bottom-color: var(--fill-color);\n",
              "    animation:\n",
              "      spin 1s steps(1) infinite;\n",
              "  }\n",
              "\n",
              "  @keyframes spin {\n",
              "    0% {\n",
              "      border-color: transparent;\n",
              "      border-bottom-color: var(--fill-color);\n",
              "      border-left-color: var(--fill-color);\n",
              "    }\n",
              "    20% {\n",
              "      border-color: transparent;\n",
              "      border-left-color: var(--fill-color);\n",
              "      border-top-color: var(--fill-color);\n",
              "    }\n",
              "    30% {\n",
              "      border-color: transparent;\n",
              "      border-left-color: var(--fill-color);\n",
              "      border-top-color: var(--fill-color);\n",
              "      border-right-color: var(--fill-color);\n",
              "    }\n",
              "    40% {\n",
              "      border-color: transparent;\n",
              "      border-right-color: var(--fill-color);\n",
              "      border-top-color: var(--fill-color);\n",
              "    }\n",
              "    60% {\n",
              "      border-color: transparent;\n",
              "      border-right-color: var(--fill-color);\n",
              "    }\n",
              "    80% {\n",
              "      border-color: transparent;\n",
              "      border-right-color: var(--fill-color);\n",
              "      border-bottom-color: var(--fill-color);\n",
              "    }\n",
              "    90% {\n",
              "      border-color: transparent;\n",
              "      border-bottom-color: var(--fill-color);\n",
              "    }\n",
              "  }\n",
              "</style>\n",
              "\n",
              "  <script>\n",
              "    async function quickchart(key) {\n",
              "      const quickchartButtonEl =\n",
              "        document.querySelector('#' + key + ' button');\n",
              "      quickchartButtonEl.disabled = true;  // To prevent multiple clicks.\n",
              "      quickchartButtonEl.classList.add('colab-df-spinner');\n",
              "      try {\n",
              "        const charts = await google.colab.kernel.invokeFunction(\n",
              "            'suggestCharts', [key], {});\n",
              "      } catch (error) {\n",
              "        console.error('Error during call to suggestCharts:', error);\n",
              "      }\n",
              "      quickchartButtonEl.classList.remove('colab-df-spinner');\n",
              "      quickchartButtonEl.classList.add('colab-df-quickchart-complete');\n",
              "    }\n",
              "    (() => {\n",
              "      let quickchartButtonEl =\n",
              "        document.querySelector('#df-42327e59-ace7-475e-ab56-4d705233816d button');\n",
              "      quickchartButtonEl.style.display =\n",
              "        google.colab.kernel.accessAllowed ? 'block' : 'none';\n",
              "    })();\n",
              "  </script>\n",
              "</div>\n",
              "\n",
              "    </div>\n",
              "  </div>\n"
            ],
            "application/vnd.google.colaboratory.intrinsic+json": {
              "type": "dataframe",
              "variable_name": "df_previous_years"
            }
          },
          "metadata": {},
          "execution_count": 6
        }
      ]
    },
    {
      "cell_type": "code",
      "source": [
        "df_present_year.head()"
      ],
      "metadata": {
        "id": "1WSgWsAz5QDY",
        "colab": {
          "base_uri": "https://localhost:8080/",
          "height": 236
        },
        "outputId": "59559e88-1bab-48d6-aaab-2b334e5fd026"
      },
      "execution_count": null,
      "outputs": [
        {
          "output_type": "execute_result",
          "data": {
            "text/plain": [
              "  class  aa_000 ab_000 ac_000 ad_000 ae_000 af_000 ag_000 ag_001 ag_002  ...  \\\n",
              "0   neg      60      0     20     12      0      0      0      0      0  ...   \n",
              "1   neg      82      0     68     40      0      0      0      0      0  ...   \n",
              "2   neg   66002      2    212    112      0      0      0      0      0  ...   \n",
              "3   neg   59816     na   1010    936      0      0      0      0      0  ...   \n",
              "4   neg    1814     na    156    140      0      0      0      0      0  ...   \n",
              "\n",
              "   ee_002  ee_003  ee_004  ee_005   ee_006  ee_007  ee_008 ee_009 ef_000  \\\n",
              "0    1098     138     412     654       78      88       0      0      0   \n",
              "1    1068     276    1620     116       86     462       0      0      0   \n",
              "2  495076  380368  440134  269556  1315022  153680     516      0      0   \n",
              "3  540820  243270  483302  485332   431376  210074  281662   3232      0   \n",
              "4    7646    4144   18466   49782     3176     482      76      0      0   \n",
              "\n",
              "  eg_000  \n",
              "0      0  \n",
              "1      0  \n",
              "2      0  \n",
              "3      0  \n",
              "4      0  \n",
              "\n",
              "[5 rows x 171 columns]"
            ],
            "text/html": [
              "\n",
              "  <div id=\"df-7ddab79e-c434-4a3d-b408-410b7f583f2a\" class=\"colab-df-container\">\n",
              "    <div>\n",
              "<style scoped>\n",
              "    .dataframe tbody tr th:only-of-type {\n",
              "        vertical-align: middle;\n",
              "    }\n",
              "\n",
              "    .dataframe tbody tr th {\n",
              "        vertical-align: top;\n",
              "    }\n",
              "\n",
              "    .dataframe thead th {\n",
              "        text-align: right;\n",
              "    }\n",
              "</style>\n",
              "<table border=\"1\" class=\"dataframe\">\n",
              "  <thead>\n",
              "    <tr style=\"text-align: right;\">\n",
              "      <th></th>\n",
              "      <th>class</th>\n",
              "      <th>aa_000</th>\n",
              "      <th>ab_000</th>\n",
              "      <th>ac_000</th>\n",
              "      <th>ad_000</th>\n",
              "      <th>ae_000</th>\n",
              "      <th>af_000</th>\n",
              "      <th>ag_000</th>\n",
              "      <th>ag_001</th>\n",
              "      <th>ag_002</th>\n",
              "      <th>...</th>\n",
              "      <th>ee_002</th>\n",
              "      <th>ee_003</th>\n",
              "      <th>ee_004</th>\n",
              "      <th>ee_005</th>\n",
              "      <th>ee_006</th>\n",
              "      <th>ee_007</th>\n",
              "      <th>ee_008</th>\n",
              "      <th>ee_009</th>\n",
              "      <th>ef_000</th>\n",
              "      <th>eg_000</th>\n",
              "    </tr>\n",
              "  </thead>\n",
              "  <tbody>\n",
              "    <tr>\n",
              "      <th>0</th>\n",
              "      <td>neg</td>\n",
              "      <td>60</td>\n",
              "      <td>0</td>\n",
              "      <td>20</td>\n",
              "      <td>12</td>\n",
              "      <td>0</td>\n",
              "      <td>0</td>\n",
              "      <td>0</td>\n",
              "      <td>0</td>\n",
              "      <td>0</td>\n",
              "      <td>...</td>\n",
              "      <td>1098</td>\n",
              "      <td>138</td>\n",
              "      <td>412</td>\n",
              "      <td>654</td>\n",
              "      <td>78</td>\n",
              "      <td>88</td>\n",
              "      <td>0</td>\n",
              "      <td>0</td>\n",
              "      <td>0</td>\n",
              "      <td>0</td>\n",
              "    </tr>\n",
              "    <tr>\n",
              "      <th>1</th>\n",
              "      <td>neg</td>\n",
              "      <td>82</td>\n",
              "      <td>0</td>\n",
              "      <td>68</td>\n",
              "      <td>40</td>\n",
              "      <td>0</td>\n",
              "      <td>0</td>\n",
              "      <td>0</td>\n",
              "      <td>0</td>\n",
              "      <td>0</td>\n",
              "      <td>...</td>\n",
              "      <td>1068</td>\n",
              "      <td>276</td>\n",
              "      <td>1620</td>\n",
              "      <td>116</td>\n",
              "      <td>86</td>\n",
              "      <td>462</td>\n",
              "      <td>0</td>\n",
              "      <td>0</td>\n",
              "      <td>0</td>\n",
              "      <td>0</td>\n",
              "    </tr>\n",
              "    <tr>\n",
              "      <th>2</th>\n",
              "      <td>neg</td>\n",
              "      <td>66002</td>\n",
              "      <td>2</td>\n",
              "      <td>212</td>\n",
              "      <td>112</td>\n",
              "      <td>0</td>\n",
              "      <td>0</td>\n",
              "      <td>0</td>\n",
              "      <td>0</td>\n",
              "      <td>0</td>\n",
              "      <td>...</td>\n",
              "      <td>495076</td>\n",
              "      <td>380368</td>\n",
              "      <td>440134</td>\n",
              "      <td>269556</td>\n",
              "      <td>1315022</td>\n",
              "      <td>153680</td>\n",
              "      <td>516</td>\n",
              "      <td>0</td>\n",
              "      <td>0</td>\n",
              "      <td>0</td>\n",
              "    </tr>\n",
              "    <tr>\n",
              "      <th>3</th>\n",
              "      <td>neg</td>\n",
              "      <td>59816</td>\n",
              "      <td>na</td>\n",
              "      <td>1010</td>\n",
              "      <td>936</td>\n",
              "      <td>0</td>\n",
              "      <td>0</td>\n",
              "      <td>0</td>\n",
              "      <td>0</td>\n",
              "      <td>0</td>\n",
              "      <td>...</td>\n",
              "      <td>540820</td>\n",
              "      <td>243270</td>\n",
              "      <td>483302</td>\n",
              "      <td>485332</td>\n",
              "      <td>431376</td>\n",
              "      <td>210074</td>\n",
              "      <td>281662</td>\n",
              "      <td>3232</td>\n",
              "      <td>0</td>\n",
              "      <td>0</td>\n",
              "    </tr>\n",
              "    <tr>\n",
              "      <th>4</th>\n",
              "      <td>neg</td>\n",
              "      <td>1814</td>\n",
              "      <td>na</td>\n",
              "      <td>156</td>\n",
              "      <td>140</td>\n",
              "      <td>0</td>\n",
              "      <td>0</td>\n",
              "      <td>0</td>\n",
              "      <td>0</td>\n",
              "      <td>0</td>\n",
              "      <td>...</td>\n",
              "      <td>7646</td>\n",
              "      <td>4144</td>\n",
              "      <td>18466</td>\n",
              "      <td>49782</td>\n",
              "      <td>3176</td>\n",
              "      <td>482</td>\n",
              "      <td>76</td>\n",
              "      <td>0</td>\n",
              "      <td>0</td>\n",
              "      <td>0</td>\n",
              "    </tr>\n",
              "  </tbody>\n",
              "</table>\n",
              "<p>5 rows × 171 columns</p>\n",
              "</div>\n",
              "    <div class=\"colab-df-buttons\">\n",
              "\n",
              "  <div class=\"colab-df-container\">\n",
              "    <button class=\"colab-df-convert\" onclick=\"convertToInteractive('df-7ddab79e-c434-4a3d-b408-410b7f583f2a')\"\n",
              "            title=\"Convert this dataframe to an interactive table.\"\n",
              "            style=\"display:none;\">\n",
              "\n",
              "  <svg xmlns=\"http://www.w3.org/2000/svg\" height=\"24px\" viewBox=\"0 -960 960 960\">\n",
              "    <path d=\"M120-120v-720h720v720H120Zm60-500h600v-160H180v160Zm220 220h160v-160H400v160Zm0 220h160v-160H400v160ZM180-400h160v-160H180v160Zm440 0h160v-160H620v160ZM180-180h160v-160H180v160Zm440 0h160v-160H620v160Z\"/>\n",
              "  </svg>\n",
              "    </button>\n",
              "\n",
              "  <style>\n",
              "    .colab-df-container {\n",
              "      display:flex;\n",
              "      gap: 12px;\n",
              "    }\n",
              "\n",
              "    .colab-df-convert {\n",
              "      background-color: #E8F0FE;\n",
              "      border: none;\n",
              "      border-radius: 50%;\n",
              "      cursor: pointer;\n",
              "      display: none;\n",
              "      fill: #1967D2;\n",
              "      height: 32px;\n",
              "      padding: 0 0 0 0;\n",
              "      width: 32px;\n",
              "    }\n",
              "\n",
              "    .colab-df-convert:hover {\n",
              "      background-color: #E2EBFA;\n",
              "      box-shadow: 0px 1px 2px rgba(60, 64, 67, 0.3), 0px 1px 3px 1px rgba(60, 64, 67, 0.15);\n",
              "      fill: #174EA6;\n",
              "    }\n",
              "\n",
              "    .colab-df-buttons div {\n",
              "      margin-bottom: 4px;\n",
              "    }\n",
              "\n",
              "    [theme=dark] .colab-df-convert {\n",
              "      background-color: #3B4455;\n",
              "      fill: #D2E3FC;\n",
              "    }\n",
              "\n",
              "    [theme=dark] .colab-df-convert:hover {\n",
              "      background-color: #434B5C;\n",
              "      box-shadow: 0px 1px 3px 1px rgba(0, 0, 0, 0.15);\n",
              "      filter: drop-shadow(0px 1px 2px rgba(0, 0, 0, 0.3));\n",
              "      fill: #FFFFFF;\n",
              "    }\n",
              "  </style>\n",
              "\n",
              "    <script>\n",
              "      const buttonEl =\n",
              "        document.querySelector('#df-7ddab79e-c434-4a3d-b408-410b7f583f2a button.colab-df-convert');\n",
              "      buttonEl.style.display =\n",
              "        google.colab.kernel.accessAllowed ? 'block' : 'none';\n",
              "\n",
              "      async function convertToInteractive(key) {\n",
              "        const element = document.querySelector('#df-7ddab79e-c434-4a3d-b408-410b7f583f2a');\n",
              "        const dataTable =\n",
              "          await google.colab.kernel.invokeFunction('convertToInteractive',\n",
              "                                                    [key], {});\n",
              "        if (!dataTable) return;\n",
              "\n",
              "        const docLinkHtml = 'Like what you see? Visit the ' +\n",
              "          '<a target=\"_blank\" href=https://colab.research.google.com/notebooks/data_table.ipynb>data table notebook</a>'\n",
              "          + ' to learn more about interactive tables.';\n",
              "        element.innerHTML = '';\n",
              "        dataTable['output_type'] = 'display_data';\n",
              "        await google.colab.output.renderOutput(dataTable, element);\n",
              "        const docLink = document.createElement('div');\n",
              "        docLink.innerHTML = docLinkHtml;\n",
              "        element.appendChild(docLink);\n",
              "      }\n",
              "    </script>\n",
              "  </div>\n",
              "\n",
              "\n",
              "<div id=\"df-13da452f-f460-4fb2-8fcb-ecd700cf7a1a\">\n",
              "  <button class=\"colab-df-quickchart\" onclick=\"quickchart('df-13da452f-f460-4fb2-8fcb-ecd700cf7a1a')\"\n",
              "            title=\"Suggest charts\"\n",
              "            style=\"display:none;\">\n",
              "\n",
              "<svg xmlns=\"http://www.w3.org/2000/svg\" height=\"24px\"viewBox=\"0 0 24 24\"\n",
              "     width=\"24px\">\n",
              "    <g>\n",
              "        <path d=\"M19 3H5c-1.1 0-2 .9-2 2v14c0 1.1.9 2 2 2h14c1.1 0 2-.9 2-2V5c0-1.1-.9-2-2-2zM9 17H7v-7h2v7zm4 0h-2V7h2v10zm4 0h-2v-4h2v4z\"/>\n",
              "    </g>\n",
              "</svg>\n",
              "  </button>\n",
              "\n",
              "<style>\n",
              "  .colab-df-quickchart {\n",
              "      --bg-color: #E8F0FE;\n",
              "      --fill-color: #1967D2;\n",
              "      --hover-bg-color: #E2EBFA;\n",
              "      --hover-fill-color: #174EA6;\n",
              "      --disabled-fill-color: #AAA;\n",
              "      --disabled-bg-color: #DDD;\n",
              "  }\n",
              "\n",
              "  [theme=dark] .colab-df-quickchart {\n",
              "      --bg-color: #3B4455;\n",
              "      --fill-color: #D2E3FC;\n",
              "      --hover-bg-color: #434B5C;\n",
              "      --hover-fill-color: #FFFFFF;\n",
              "      --disabled-bg-color: #3B4455;\n",
              "      --disabled-fill-color: #666;\n",
              "  }\n",
              "\n",
              "  .colab-df-quickchart {\n",
              "    background-color: var(--bg-color);\n",
              "    border: none;\n",
              "    border-radius: 50%;\n",
              "    cursor: pointer;\n",
              "    display: none;\n",
              "    fill: var(--fill-color);\n",
              "    height: 32px;\n",
              "    padding: 0;\n",
              "    width: 32px;\n",
              "  }\n",
              "\n",
              "  .colab-df-quickchart:hover {\n",
              "    background-color: var(--hover-bg-color);\n",
              "    box-shadow: 0 1px 2px rgba(60, 64, 67, 0.3), 0 1px 3px 1px rgba(60, 64, 67, 0.15);\n",
              "    fill: var(--button-hover-fill-color);\n",
              "  }\n",
              "\n",
              "  .colab-df-quickchart-complete:disabled,\n",
              "  .colab-df-quickchart-complete:disabled:hover {\n",
              "    background-color: var(--disabled-bg-color);\n",
              "    fill: var(--disabled-fill-color);\n",
              "    box-shadow: none;\n",
              "  }\n",
              "\n",
              "  .colab-df-spinner {\n",
              "    border: 2px solid var(--fill-color);\n",
              "    border-color: transparent;\n",
              "    border-bottom-color: var(--fill-color);\n",
              "    animation:\n",
              "      spin 1s steps(1) infinite;\n",
              "  }\n",
              "\n",
              "  @keyframes spin {\n",
              "    0% {\n",
              "      border-color: transparent;\n",
              "      border-bottom-color: var(--fill-color);\n",
              "      border-left-color: var(--fill-color);\n",
              "    }\n",
              "    20% {\n",
              "      border-color: transparent;\n",
              "      border-left-color: var(--fill-color);\n",
              "      border-top-color: var(--fill-color);\n",
              "    }\n",
              "    30% {\n",
              "      border-color: transparent;\n",
              "      border-left-color: var(--fill-color);\n",
              "      border-top-color: var(--fill-color);\n",
              "      border-right-color: var(--fill-color);\n",
              "    }\n",
              "    40% {\n",
              "      border-color: transparent;\n",
              "      border-right-color: var(--fill-color);\n",
              "      border-top-color: var(--fill-color);\n",
              "    }\n",
              "    60% {\n",
              "      border-color: transparent;\n",
              "      border-right-color: var(--fill-color);\n",
              "    }\n",
              "    80% {\n",
              "      border-color: transparent;\n",
              "      border-right-color: var(--fill-color);\n",
              "      border-bottom-color: var(--fill-color);\n",
              "    }\n",
              "    90% {\n",
              "      border-color: transparent;\n",
              "      border-bottom-color: var(--fill-color);\n",
              "    }\n",
              "  }\n",
              "</style>\n",
              "\n",
              "  <script>\n",
              "    async function quickchart(key) {\n",
              "      const quickchartButtonEl =\n",
              "        document.querySelector('#' + key + ' button');\n",
              "      quickchartButtonEl.disabled = true;  // To prevent multiple clicks.\n",
              "      quickchartButtonEl.classList.add('colab-df-spinner');\n",
              "      try {\n",
              "        const charts = await google.colab.kernel.invokeFunction(\n",
              "            'suggestCharts', [key], {});\n",
              "      } catch (error) {\n",
              "        console.error('Error during call to suggestCharts:', error);\n",
              "      }\n",
              "      quickchartButtonEl.classList.remove('colab-df-spinner');\n",
              "      quickchartButtonEl.classList.add('colab-df-quickchart-complete');\n",
              "    }\n",
              "    (() => {\n",
              "      let quickchartButtonEl =\n",
              "        document.querySelector('#df-13da452f-f460-4fb2-8fcb-ecd700cf7a1a button');\n",
              "      quickchartButtonEl.style.display =\n",
              "        google.colab.kernel.accessAllowed ? 'block' : 'none';\n",
              "    })();\n",
              "  </script>\n",
              "</div>\n",
              "\n",
              "    </div>\n",
              "  </div>\n"
            ],
            "application/vnd.google.colaboratory.intrinsic+json": {
              "type": "dataframe",
              "variable_name": "df_present_year"
            }
          },
          "metadata": {},
          "execution_count": 7
        }
      ]
    },
    {
      "cell_type": "code",
      "source": [
        "df_previous_years.values"
      ],
      "metadata": {
        "id": "DjLKZ2485nYN",
        "colab": {
          "base_uri": "https://localhost:8080/"
        },
        "outputId": "278e0031-c75f-4b28-dea6-48d934ab5850"
      },
      "execution_count": null,
      "outputs": [
        {
          "output_type": "execute_result",
          "data": {
            "text/plain": [
              "array([['neg', 76698, 'na', ..., '0', '0', '0'],\n",
              "       ['neg', 33058, 'na', ..., '1500', '0', '0'],\n",
              "       ['neg', 41040, 'na', ..., '514', '0', '0'],\n",
              "       ...,\n",
              "       ['neg', 112, '0', ..., '0', '0', '0'],\n",
              "       ['neg', 80292, 'na', ..., '388422', '0', '0'],\n",
              "       ['neg', 40222, 'na', ..., '158', '0', '0']], dtype=object)"
            ]
          },
          "metadata": {},
          "execution_count": 5
        }
      ]
    },
    {
      "cell_type": "code",
      "source": [
        "df_present_year.values"
      ],
      "metadata": {
        "id": "-2tFHFE_5nKw",
        "colab": {
          "base_uri": "https://localhost:8080/"
        },
        "outputId": "b76e1fee-a30f-4b34-cc1b-cf3250ded7e6"
      },
      "execution_count": null,
      "outputs": [
        {
          "output_type": "execute_result",
          "data": {
            "text/plain": [
              "array([['neg', 60, '0', ..., '0', '0', '0'],\n",
              "       ['neg', 82, '0', ..., '0', '0', '0'],\n",
              "       ['neg', 66002, '2', ..., '0', '0', '0'],\n",
              "       ...,\n",
              "       ['neg', 79636, 'na', ..., '19548', '0', '0'],\n",
              "       ['neg', 110, 'na', ..., '0', '0', '0'],\n",
              "       ['neg', 8, '0', ..., '0', '0', '0']], dtype=object)"
            ]
          },
          "metadata": {},
          "execution_count": 6
        }
      ]
    },
    {
      "cell_type": "code",
      "source": [
        "df_previous_years.shape"
      ],
      "metadata": {
        "colab": {
          "base_uri": "https://localhost:8080/"
        },
        "id": "xyQPOZ675w9S",
        "outputId": "7a9f0217-a69c-4b88-c659-0bef78b38874"
      },
      "execution_count": null,
      "outputs": [
        {
          "output_type": "execute_result",
          "data": {
            "text/plain": [
              "(60000, 171)"
            ]
          },
          "metadata": {},
          "execution_count": 7
        }
      ]
    },
    {
      "cell_type": "code",
      "source": [
        "df_present_year.shape"
      ],
      "metadata": {
        "colab": {
          "base_uri": "https://localhost:8080/"
        },
        "id": "0k_QrZIP5wu4",
        "outputId": "9867a967-cbbe-479c-8257-ecf2f55920bc"
      },
      "execution_count": null,
      "outputs": [
        {
          "output_type": "execute_result",
          "data": {
            "text/plain": [
              "(16000, 171)"
            ]
          },
          "metadata": {},
          "execution_count": 8
        }
      ]
    },
    {
      "cell_type": "code",
      "source": [
        "df_previous_years.describe()"
      ],
      "metadata": {
        "colab": {
          "base_uri": "https://localhost:8080/",
          "height": 300
        },
        "id": "8Z5txpdA55TT",
        "outputId": "9c94ecb1-d5e2-44c4-aa93-179dd422f42a"
      },
      "execution_count": null,
      "outputs": [
        {
          "output_type": "execute_result",
          "data": {
            "text/plain": [
              "             aa_000\n",
              "count  6.000000e+04\n",
              "mean   5.933650e+04\n",
              "std    1.454301e+05\n",
              "min    0.000000e+00\n",
              "25%    8.340000e+02\n",
              "50%    3.077600e+04\n",
              "75%    4.866800e+04\n",
              "max    2.746564e+06"
            ],
            "text/html": [
              "\n",
              "  <div id=\"df-ad750423-b597-40ba-88ca-a11e0adfc2cc\" class=\"colab-df-container\">\n",
              "    <div>\n",
              "<style scoped>\n",
              "    .dataframe tbody tr th:only-of-type {\n",
              "        vertical-align: middle;\n",
              "    }\n",
              "\n",
              "    .dataframe tbody tr th {\n",
              "        vertical-align: top;\n",
              "    }\n",
              "\n",
              "    .dataframe thead th {\n",
              "        text-align: right;\n",
              "    }\n",
              "</style>\n",
              "<table border=\"1\" class=\"dataframe\">\n",
              "  <thead>\n",
              "    <tr style=\"text-align: right;\">\n",
              "      <th></th>\n",
              "      <th>aa_000</th>\n",
              "    </tr>\n",
              "  </thead>\n",
              "  <tbody>\n",
              "    <tr>\n",
              "      <th>count</th>\n",
              "      <td>6.000000e+04</td>\n",
              "    </tr>\n",
              "    <tr>\n",
              "      <th>mean</th>\n",
              "      <td>5.933650e+04</td>\n",
              "    </tr>\n",
              "    <tr>\n",
              "      <th>std</th>\n",
              "      <td>1.454301e+05</td>\n",
              "    </tr>\n",
              "    <tr>\n",
              "      <th>min</th>\n",
              "      <td>0.000000e+00</td>\n",
              "    </tr>\n",
              "    <tr>\n",
              "      <th>25%</th>\n",
              "      <td>8.340000e+02</td>\n",
              "    </tr>\n",
              "    <tr>\n",
              "      <th>50%</th>\n",
              "      <td>3.077600e+04</td>\n",
              "    </tr>\n",
              "    <tr>\n",
              "      <th>75%</th>\n",
              "      <td>4.866800e+04</td>\n",
              "    </tr>\n",
              "    <tr>\n",
              "      <th>max</th>\n",
              "      <td>2.746564e+06</td>\n",
              "    </tr>\n",
              "  </tbody>\n",
              "</table>\n",
              "</div>\n",
              "    <div class=\"colab-df-buttons\">\n",
              "\n",
              "  <div class=\"colab-df-container\">\n",
              "    <button class=\"colab-df-convert\" onclick=\"convertToInteractive('df-ad750423-b597-40ba-88ca-a11e0adfc2cc')\"\n",
              "            title=\"Convert this dataframe to an interactive table.\"\n",
              "            style=\"display:none;\">\n",
              "\n",
              "  <svg xmlns=\"http://www.w3.org/2000/svg\" height=\"24px\" viewBox=\"0 -960 960 960\">\n",
              "    <path d=\"M120-120v-720h720v720H120Zm60-500h600v-160H180v160Zm220 220h160v-160H400v160Zm0 220h160v-160H400v160ZM180-400h160v-160H180v160Zm440 0h160v-160H620v160ZM180-180h160v-160H180v160Zm440 0h160v-160H620v160Z\"/>\n",
              "  </svg>\n",
              "    </button>\n",
              "\n",
              "  <style>\n",
              "    .colab-df-container {\n",
              "      display:flex;\n",
              "      gap: 12px;\n",
              "    }\n",
              "\n",
              "    .colab-df-convert {\n",
              "      background-color: #E8F0FE;\n",
              "      border: none;\n",
              "      border-radius: 50%;\n",
              "      cursor: pointer;\n",
              "      display: none;\n",
              "      fill: #1967D2;\n",
              "      height: 32px;\n",
              "      padding: 0 0 0 0;\n",
              "      width: 32px;\n",
              "    }\n",
              "\n",
              "    .colab-df-convert:hover {\n",
              "      background-color: #E2EBFA;\n",
              "      box-shadow: 0px 1px 2px rgba(60, 64, 67, 0.3), 0px 1px 3px 1px rgba(60, 64, 67, 0.15);\n",
              "      fill: #174EA6;\n",
              "    }\n",
              "\n",
              "    .colab-df-buttons div {\n",
              "      margin-bottom: 4px;\n",
              "    }\n",
              "\n",
              "    [theme=dark] .colab-df-convert {\n",
              "      background-color: #3B4455;\n",
              "      fill: #D2E3FC;\n",
              "    }\n",
              "\n",
              "    [theme=dark] .colab-df-convert:hover {\n",
              "      background-color: #434B5C;\n",
              "      box-shadow: 0px 1px 3px 1px rgba(0, 0, 0, 0.15);\n",
              "      filter: drop-shadow(0px 1px 2px rgba(0, 0, 0, 0.3));\n",
              "      fill: #FFFFFF;\n",
              "    }\n",
              "  </style>\n",
              "\n",
              "    <script>\n",
              "      const buttonEl =\n",
              "        document.querySelector('#df-ad750423-b597-40ba-88ca-a11e0adfc2cc button.colab-df-convert');\n",
              "      buttonEl.style.display =\n",
              "        google.colab.kernel.accessAllowed ? 'block' : 'none';\n",
              "\n",
              "      async function convertToInteractive(key) {\n",
              "        const element = document.querySelector('#df-ad750423-b597-40ba-88ca-a11e0adfc2cc');\n",
              "        const dataTable =\n",
              "          await google.colab.kernel.invokeFunction('convertToInteractive',\n",
              "                                                    [key], {});\n",
              "        if (!dataTable) return;\n",
              "\n",
              "        const docLinkHtml = 'Like what you see? Visit the ' +\n",
              "          '<a target=\"_blank\" href=https://colab.research.google.com/notebooks/data_table.ipynb>data table notebook</a>'\n",
              "          + ' to learn more about interactive tables.';\n",
              "        element.innerHTML = '';\n",
              "        dataTable['output_type'] = 'display_data';\n",
              "        await google.colab.output.renderOutput(dataTable, element);\n",
              "        const docLink = document.createElement('div');\n",
              "        docLink.innerHTML = docLinkHtml;\n",
              "        element.appendChild(docLink);\n",
              "      }\n",
              "    </script>\n",
              "  </div>\n",
              "\n",
              "\n",
              "<div id=\"df-1bbfb072-6055-488d-aab4-370534709b10\">\n",
              "  <button class=\"colab-df-quickchart\" onclick=\"quickchart('df-1bbfb072-6055-488d-aab4-370534709b10')\"\n",
              "            title=\"Suggest charts\"\n",
              "            style=\"display:none;\">\n",
              "\n",
              "<svg xmlns=\"http://www.w3.org/2000/svg\" height=\"24px\"viewBox=\"0 0 24 24\"\n",
              "     width=\"24px\">\n",
              "    <g>\n",
              "        <path d=\"M19 3H5c-1.1 0-2 .9-2 2v14c0 1.1.9 2 2 2h14c1.1 0 2-.9 2-2V5c0-1.1-.9-2-2-2zM9 17H7v-7h2v7zm4 0h-2V7h2v10zm4 0h-2v-4h2v4z\"/>\n",
              "    </g>\n",
              "</svg>\n",
              "  </button>\n",
              "\n",
              "<style>\n",
              "  .colab-df-quickchart {\n",
              "      --bg-color: #E8F0FE;\n",
              "      --fill-color: #1967D2;\n",
              "      --hover-bg-color: #E2EBFA;\n",
              "      --hover-fill-color: #174EA6;\n",
              "      --disabled-fill-color: #AAA;\n",
              "      --disabled-bg-color: #DDD;\n",
              "  }\n",
              "\n",
              "  [theme=dark] .colab-df-quickchart {\n",
              "      --bg-color: #3B4455;\n",
              "      --fill-color: #D2E3FC;\n",
              "      --hover-bg-color: #434B5C;\n",
              "      --hover-fill-color: #FFFFFF;\n",
              "      --disabled-bg-color: #3B4455;\n",
              "      --disabled-fill-color: #666;\n",
              "  }\n",
              "\n",
              "  .colab-df-quickchart {\n",
              "    background-color: var(--bg-color);\n",
              "    border: none;\n",
              "    border-radius: 50%;\n",
              "    cursor: pointer;\n",
              "    display: none;\n",
              "    fill: var(--fill-color);\n",
              "    height: 32px;\n",
              "    padding: 0;\n",
              "    width: 32px;\n",
              "  }\n",
              "\n",
              "  .colab-df-quickchart:hover {\n",
              "    background-color: var(--hover-bg-color);\n",
              "    box-shadow: 0 1px 2px rgba(60, 64, 67, 0.3), 0 1px 3px 1px rgba(60, 64, 67, 0.15);\n",
              "    fill: var(--button-hover-fill-color);\n",
              "  }\n",
              "\n",
              "  .colab-df-quickchart-complete:disabled,\n",
              "  .colab-df-quickchart-complete:disabled:hover {\n",
              "    background-color: var(--disabled-bg-color);\n",
              "    fill: var(--disabled-fill-color);\n",
              "    box-shadow: none;\n",
              "  }\n",
              "\n",
              "  .colab-df-spinner {\n",
              "    border: 2px solid var(--fill-color);\n",
              "    border-color: transparent;\n",
              "    border-bottom-color: var(--fill-color);\n",
              "    animation:\n",
              "      spin 1s steps(1) infinite;\n",
              "  }\n",
              "\n",
              "  @keyframes spin {\n",
              "    0% {\n",
              "      border-color: transparent;\n",
              "      border-bottom-color: var(--fill-color);\n",
              "      border-left-color: var(--fill-color);\n",
              "    }\n",
              "    20% {\n",
              "      border-color: transparent;\n",
              "      border-left-color: var(--fill-color);\n",
              "      border-top-color: var(--fill-color);\n",
              "    }\n",
              "    30% {\n",
              "      border-color: transparent;\n",
              "      border-left-color: var(--fill-color);\n",
              "      border-top-color: var(--fill-color);\n",
              "      border-right-color: var(--fill-color);\n",
              "    }\n",
              "    40% {\n",
              "      border-color: transparent;\n",
              "      border-right-color: var(--fill-color);\n",
              "      border-top-color: var(--fill-color);\n",
              "    }\n",
              "    60% {\n",
              "      border-color: transparent;\n",
              "      border-right-color: var(--fill-color);\n",
              "    }\n",
              "    80% {\n",
              "      border-color: transparent;\n",
              "      border-right-color: var(--fill-color);\n",
              "      border-bottom-color: var(--fill-color);\n",
              "    }\n",
              "    90% {\n",
              "      border-color: transparent;\n",
              "      border-bottom-color: var(--fill-color);\n",
              "    }\n",
              "  }\n",
              "</style>\n",
              "\n",
              "  <script>\n",
              "    async function quickchart(key) {\n",
              "      const quickchartButtonEl =\n",
              "        document.querySelector('#' + key + ' button');\n",
              "      quickchartButtonEl.disabled = true;  // To prevent multiple clicks.\n",
              "      quickchartButtonEl.classList.add('colab-df-spinner');\n",
              "      try {\n",
              "        const charts = await google.colab.kernel.invokeFunction(\n",
              "            'suggestCharts', [key], {});\n",
              "      } catch (error) {\n",
              "        console.error('Error during call to suggestCharts:', error);\n",
              "      }\n",
              "      quickchartButtonEl.classList.remove('colab-df-spinner');\n",
              "      quickchartButtonEl.classList.add('colab-df-quickchart-complete');\n",
              "    }\n",
              "    (() => {\n",
              "      let quickchartButtonEl =\n",
              "        document.querySelector('#df-1bbfb072-6055-488d-aab4-370534709b10 button');\n",
              "      quickchartButtonEl.style.display =\n",
              "        google.colab.kernel.accessAllowed ? 'block' : 'none';\n",
              "    })();\n",
              "  </script>\n",
              "</div>\n",
              "\n",
              "    </div>\n",
              "  </div>\n"
            ],
            "application/vnd.google.colaboratory.intrinsic+json": {
              "type": "dataframe",
              "summary": "{\n  \"name\": \"df_previous_years\",\n  \"rows\": 8,\n  \"fields\": [\n    {\n      \"column\": \"aa_000\",\n      \"properties\": {\n        \"dtype\": \"number\",\n        \"std\": 954721.015836422,\n        \"min\": 0.0,\n        \"max\": 2746564.0,\n        \"num_unique_values\": 8,\n        \"samples\": [\n          59336.499566666665,\n          30776.0,\n          60000.0\n        ],\n        \"semantic_type\": \"\",\n        \"description\": \"\"\n      }\n    }\n  ]\n}"
            }
          },
          "metadata": {},
          "execution_count": 9
        }
      ]
    },
    {
      "cell_type": "code",
      "source": [
        "df_present_year.describe()"
      ],
      "metadata": {
        "colab": {
          "base_uri": "https://localhost:8080/",
          "height": 300
        },
        "id": "9T6iX8y755FZ",
        "outputId": "ea213bd5-2390-4d85-f67d-dbedcbeaa83e"
      },
      "execution_count": null,
      "outputs": [
        {
          "output_type": "execute_result",
          "data": {
            "text/plain": [
              "             aa_000\n",
              "count  1.600000e+04\n",
              "mean   6.799698e+04\n",
              "std    5.035350e+05\n",
              "min    0.000000e+00\n",
              "25%    9.280000e+02\n",
              "50%    3.098200e+04\n",
              "75%    4.947900e+04\n",
              "max    4.294967e+07"
            ],
            "text/html": [
              "\n",
              "  <div id=\"df-df0948a9-7afe-4229-a11c-167f62bc22c3\" class=\"colab-df-container\">\n",
              "    <div>\n",
              "<style scoped>\n",
              "    .dataframe tbody tr th:only-of-type {\n",
              "        vertical-align: middle;\n",
              "    }\n",
              "\n",
              "    .dataframe tbody tr th {\n",
              "        vertical-align: top;\n",
              "    }\n",
              "\n",
              "    .dataframe thead th {\n",
              "        text-align: right;\n",
              "    }\n",
              "</style>\n",
              "<table border=\"1\" class=\"dataframe\">\n",
              "  <thead>\n",
              "    <tr style=\"text-align: right;\">\n",
              "      <th></th>\n",
              "      <th>aa_000</th>\n",
              "    </tr>\n",
              "  </thead>\n",
              "  <tbody>\n",
              "    <tr>\n",
              "      <th>count</th>\n",
              "      <td>1.600000e+04</td>\n",
              "    </tr>\n",
              "    <tr>\n",
              "      <th>mean</th>\n",
              "      <td>6.799698e+04</td>\n",
              "    </tr>\n",
              "    <tr>\n",
              "      <th>std</th>\n",
              "      <td>5.035350e+05</td>\n",
              "    </tr>\n",
              "    <tr>\n",
              "      <th>min</th>\n",
              "      <td>0.000000e+00</td>\n",
              "    </tr>\n",
              "    <tr>\n",
              "      <th>25%</th>\n",
              "      <td>9.280000e+02</td>\n",
              "    </tr>\n",
              "    <tr>\n",
              "      <th>50%</th>\n",
              "      <td>3.098200e+04</td>\n",
              "    </tr>\n",
              "    <tr>\n",
              "      <th>75%</th>\n",
              "      <td>4.947900e+04</td>\n",
              "    </tr>\n",
              "    <tr>\n",
              "      <th>max</th>\n",
              "      <td>4.294967e+07</td>\n",
              "    </tr>\n",
              "  </tbody>\n",
              "</table>\n",
              "</div>\n",
              "    <div class=\"colab-df-buttons\">\n",
              "\n",
              "  <div class=\"colab-df-container\">\n",
              "    <button class=\"colab-df-convert\" onclick=\"convertToInteractive('df-df0948a9-7afe-4229-a11c-167f62bc22c3')\"\n",
              "            title=\"Convert this dataframe to an interactive table.\"\n",
              "            style=\"display:none;\">\n",
              "\n",
              "  <svg xmlns=\"http://www.w3.org/2000/svg\" height=\"24px\" viewBox=\"0 -960 960 960\">\n",
              "    <path d=\"M120-120v-720h720v720H120Zm60-500h600v-160H180v160Zm220 220h160v-160H400v160Zm0 220h160v-160H400v160ZM180-400h160v-160H180v160Zm440 0h160v-160H620v160ZM180-180h160v-160H180v160Zm440 0h160v-160H620v160Z\"/>\n",
              "  </svg>\n",
              "    </button>\n",
              "\n",
              "  <style>\n",
              "    .colab-df-container {\n",
              "      display:flex;\n",
              "      gap: 12px;\n",
              "    }\n",
              "\n",
              "    .colab-df-convert {\n",
              "      background-color: #E8F0FE;\n",
              "      border: none;\n",
              "      border-radius: 50%;\n",
              "      cursor: pointer;\n",
              "      display: none;\n",
              "      fill: #1967D2;\n",
              "      height: 32px;\n",
              "      padding: 0 0 0 0;\n",
              "      width: 32px;\n",
              "    }\n",
              "\n",
              "    .colab-df-convert:hover {\n",
              "      background-color: #E2EBFA;\n",
              "      box-shadow: 0px 1px 2px rgba(60, 64, 67, 0.3), 0px 1px 3px 1px rgba(60, 64, 67, 0.15);\n",
              "      fill: #174EA6;\n",
              "    }\n",
              "\n",
              "    .colab-df-buttons div {\n",
              "      margin-bottom: 4px;\n",
              "    }\n",
              "\n",
              "    [theme=dark] .colab-df-convert {\n",
              "      background-color: #3B4455;\n",
              "      fill: #D2E3FC;\n",
              "    }\n",
              "\n",
              "    [theme=dark] .colab-df-convert:hover {\n",
              "      background-color: #434B5C;\n",
              "      box-shadow: 0px 1px 3px 1px rgba(0, 0, 0, 0.15);\n",
              "      filter: drop-shadow(0px 1px 2px rgba(0, 0, 0, 0.3));\n",
              "      fill: #FFFFFF;\n",
              "    }\n",
              "  </style>\n",
              "\n",
              "    <script>\n",
              "      const buttonEl =\n",
              "        document.querySelector('#df-df0948a9-7afe-4229-a11c-167f62bc22c3 button.colab-df-convert');\n",
              "      buttonEl.style.display =\n",
              "        google.colab.kernel.accessAllowed ? 'block' : 'none';\n",
              "\n",
              "      async function convertToInteractive(key) {\n",
              "        const element = document.querySelector('#df-df0948a9-7afe-4229-a11c-167f62bc22c3');\n",
              "        const dataTable =\n",
              "          await google.colab.kernel.invokeFunction('convertToInteractive',\n",
              "                                                    [key], {});\n",
              "        if (!dataTable) return;\n",
              "\n",
              "        const docLinkHtml = 'Like what you see? Visit the ' +\n",
              "          '<a target=\"_blank\" href=https://colab.research.google.com/notebooks/data_table.ipynb>data table notebook</a>'\n",
              "          + ' to learn more about interactive tables.';\n",
              "        element.innerHTML = '';\n",
              "        dataTable['output_type'] = 'display_data';\n",
              "        await google.colab.output.renderOutput(dataTable, element);\n",
              "        const docLink = document.createElement('div');\n",
              "        docLink.innerHTML = docLinkHtml;\n",
              "        element.appendChild(docLink);\n",
              "      }\n",
              "    </script>\n",
              "  </div>\n",
              "\n",
              "\n",
              "<div id=\"df-cbff545a-cf12-4e01-ad9b-38c51a5dd78e\">\n",
              "  <button class=\"colab-df-quickchart\" onclick=\"quickchart('df-cbff545a-cf12-4e01-ad9b-38c51a5dd78e')\"\n",
              "            title=\"Suggest charts\"\n",
              "            style=\"display:none;\">\n",
              "\n",
              "<svg xmlns=\"http://www.w3.org/2000/svg\" height=\"24px\"viewBox=\"0 0 24 24\"\n",
              "     width=\"24px\">\n",
              "    <g>\n",
              "        <path d=\"M19 3H5c-1.1 0-2 .9-2 2v14c0 1.1.9 2 2 2h14c1.1 0 2-.9 2-2V5c0-1.1-.9-2-2-2zM9 17H7v-7h2v7zm4 0h-2V7h2v10zm4 0h-2v-4h2v4z\"/>\n",
              "    </g>\n",
              "</svg>\n",
              "  </button>\n",
              "\n",
              "<style>\n",
              "  .colab-df-quickchart {\n",
              "      --bg-color: #E8F0FE;\n",
              "      --fill-color: #1967D2;\n",
              "      --hover-bg-color: #E2EBFA;\n",
              "      --hover-fill-color: #174EA6;\n",
              "      --disabled-fill-color: #AAA;\n",
              "      --disabled-bg-color: #DDD;\n",
              "  }\n",
              "\n",
              "  [theme=dark] .colab-df-quickchart {\n",
              "      --bg-color: #3B4455;\n",
              "      --fill-color: #D2E3FC;\n",
              "      --hover-bg-color: #434B5C;\n",
              "      --hover-fill-color: #FFFFFF;\n",
              "      --disabled-bg-color: #3B4455;\n",
              "      --disabled-fill-color: #666;\n",
              "  }\n",
              "\n",
              "  .colab-df-quickchart {\n",
              "    background-color: var(--bg-color);\n",
              "    border: none;\n",
              "    border-radius: 50%;\n",
              "    cursor: pointer;\n",
              "    display: none;\n",
              "    fill: var(--fill-color);\n",
              "    height: 32px;\n",
              "    padding: 0;\n",
              "    width: 32px;\n",
              "  }\n",
              "\n",
              "  .colab-df-quickchart:hover {\n",
              "    background-color: var(--hover-bg-color);\n",
              "    box-shadow: 0 1px 2px rgba(60, 64, 67, 0.3), 0 1px 3px 1px rgba(60, 64, 67, 0.15);\n",
              "    fill: var(--button-hover-fill-color);\n",
              "  }\n",
              "\n",
              "  .colab-df-quickchart-complete:disabled,\n",
              "  .colab-df-quickchart-complete:disabled:hover {\n",
              "    background-color: var(--disabled-bg-color);\n",
              "    fill: var(--disabled-fill-color);\n",
              "    box-shadow: none;\n",
              "  }\n",
              "\n",
              "  .colab-df-spinner {\n",
              "    border: 2px solid var(--fill-color);\n",
              "    border-color: transparent;\n",
              "    border-bottom-color: var(--fill-color);\n",
              "    animation:\n",
              "      spin 1s steps(1) infinite;\n",
              "  }\n",
              "\n",
              "  @keyframes spin {\n",
              "    0% {\n",
              "      border-color: transparent;\n",
              "      border-bottom-color: var(--fill-color);\n",
              "      border-left-color: var(--fill-color);\n",
              "    }\n",
              "    20% {\n",
              "      border-color: transparent;\n",
              "      border-left-color: var(--fill-color);\n",
              "      border-top-color: var(--fill-color);\n",
              "    }\n",
              "    30% {\n",
              "      border-color: transparent;\n",
              "      border-left-color: var(--fill-color);\n",
              "      border-top-color: var(--fill-color);\n",
              "      border-right-color: var(--fill-color);\n",
              "    }\n",
              "    40% {\n",
              "      border-color: transparent;\n",
              "      border-right-color: var(--fill-color);\n",
              "      border-top-color: var(--fill-color);\n",
              "    }\n",
              "    60% {\n",
              "      border-color: transparent;\n",
              "      border-right-color: var(--fill-color);\n",
              "    }\n",
              "    80% {\n",
              "      border-color: transparent;\n",
              "      border-right-color: var(--fill-color);\n",
              "      border-bottom-color: var(--fill-color);\n",
              "    }\n",
              "    90% {\n",
              "      border-color: transparent;\n",
              "      border-bottom-color: var(--fill-color);\n",
              "    }\n",
              "  }\n",
              "</style>\n",
              "\n",
              "  <script>\n",
              "    async function quickchart(key) {\n",
              "      const quickchartButtonEl =\n",
              "        document.querySelector('#' + key + ' button');\n",
              "      quickchartButtonEl.disabled = true;  // To prevent multiple clicks.\n",
              "      quickchartButtonEl.classList.add('colab-df-spinner');\n",
              "      try {\n",
              "        const charts = await google.colab.kernel.invokeFunction(\n",
              "            'suggestCharts', [key], {});\n",
              "      } catch (error) {\n",
              "        console.error('Error during call to suggestCharts:', error);\n",
              "      }\n",
              "      quickchartButtonEl.classList.remove('colab-df-spinner');\n",
              "      quickchartButtonEl.classList.add('colab-df-quickchart-complete');\n",
              "    }\n",
              "    (() => {\n",
              "      let quickchartButtonEl =\n",
              "        document.querySelector('#df-cbff545a-cf12-4e01-ad9b-38c51a5dd78e button');\n",
              "      quickchartButtonEl.style.display =\n",
              "        google.colab.kernel.accessAllowed ? 'block' : 'none';\n",
              "    })();\n",
              "  </script>\n",
              "</div>\n",
              "\n",
              "    </div>\n",
              "  </div>\n"
            ],
            "application/vnd.google.colaboratory.intrinsic+json": {
              "type": "dataframe",
              "summary": "{\n  \"name\": \"df_present_year\",\n  \"rows\": 8,\n  \"fields\": [\n    {\n      \"column\": \"aa_000\",\n      \"properties\": {\n        \"dtype\": \"number\",\n        \"std\": 15152149.562913487,\n        \"min\": 0.0,\n        \"max\": 42949672.0,\n        \"num_unique_values\": 8,\n        \"samples\": [\n          67996.98375,\n          30982.0,\n          16000.0\n        ],\n        \"semantic_type\": \"\",\n        \"description\": \"\"\n      }\n    }\n  ]\n}"
            }
          },
          "metadata": {},
          "execution_count": 10
        }
      ]
    },
    {
      "cell_type": "code",
      "source": [
        "# Análise exploratória inicial\n",
        "print(\"/content/air_system_previous_years.csv:\")\n",
        "print(df_previous_years.info())"
      ],
      "metadata": {
        "colab": {
          "base_uri": "https://localhost:8080/"
        },
        "id": "rRN8Cabd6d3Z",
        "outputId": "aa28b28a-0ea4-4eff-99df-50f3ae650ff0"
      },
      "execution_count": null,
      "outputs": [
        {
          "output_type": "stream",
          "name": "stdout",
          "text": [
            "/content/air_system_previous_years.csv:\n",
            "<class 'pandas.core.frame.DataFrame'>\n",
            "RangeIndex: 60000 entries, 0 to 59999\n",
            "Columns: 171 entries, class to eg_000\n",
            "dtypes: int64(1), object(170)\n",
            "memory usage: 78.3+ MB\n",
            "None\n"
          ]
        }
      ]
    },
    {
      "cell_type": "code",
      "source": [
        "# Análise exploratória inicial\n",
        "print(\"/content/air_system_present_year.csv:\")\n",
        "print(df_previous_years.info())"
      ],
      "metadata": {
        "colab": {
          "base_uri": "https://localhost:8080/"
        },
        "id": "uzIDE3V76dpc",
        "outputId": "68446f92-d90b-446b-98af-531a4ce201a3"
      },
      "execution_count": null,
      "outputs": [
        {
          "output_type": "stream",
          "name": "stdout",
          "text": [
            "/content/air_system_present_year.csv:\n",
            "<class 'pandas.core.frame.DataFrame'>\n",
            "RangeIndex: 60000 entries, 0 to 59999\n",
            "Columns: 171 entries, class to eg_000\n",
            "dtypes: int64(1), object(170)\n",
            "memory usage: 78.3+ MB\n",
            "None\n"
          ]
        }
      ]
    },
    {
      "cell_type": "code",
      "source": [
        "df = pd.concat([df_previous_years, df_present_year])"
      ],
      "metadata": {
        "id": "pdaXvn73ydR0"
      },
      "execution_count": null,
      "outputs": []
    },
    {
      "cell_type": "code",
      "source": [
        "# Verificar a quantidade total de caminhões\n",
        "total_caminhoes = df.shape[0]\n",
        "print(f\"Quantidade total de caminhões: {total_caminhoes}\")\n",
        "\n",
        "# Verificar a quantidade de caminhões com defeito\n",
        "caminhoes_com_defeito = df[df['class'] == 1].shape[0]\n",
        "print(f\"Quantidade de caminhões com defeito: {caminhoes_com_defeito}\")\n",
        "\n",
        "# Calcular o percentual de caminhões com defeito\n",
        "percentual_com_defeito = (caminhoes_com_defeito / total_caminhoes) * 100\n",
        "print(f\"Percentual de caminhões com defeito: {percentual_com_defeito:.2f}%\")\n"
      ],
      "metadata": {
        "colab": {
          "base_uri": "https://localhost:8080/"
        },
        "id": "fapzuscFydOq",
        "outputId": "5b19caa0-1da5-4a3a-c2c2-0e820ffb5116"
      },
      "execution_count": null,
      "outputs": [
        {
          "output_type": "stream",
          "name": "stdout",
          "text": [
            "Quantidade total de caminhões: 76000\n",
            "Quantidade de caminhões com defeito: 1375\n",
            "Percentual de caminhões com defeito: 1.81%\n"
          ]
        }
      ]
    },
    {
      "cell_type": "code",
      "source": [
        "# Calcular a média, mediana e desvio padrão da coluna 'ee_003'\n",
        "media_ee_003 = df['ee_003'].mean()\n",
        "mediana_ee_003 = df['ee_003'].median()\n",
        "desvio_padrao_ee_003 = df['ee_003'].std()\n",
        "\n",
        "print(f\"Média da ee_003: {media_ee_003:.2f}\")\n",
        "print(f\"Mediana da ee_003: {mediana_ee_003:.2f}\")\n",
        "print(f\"Desvio padrão da ee_003: {desvio_padrao_ee_003:.2f}\")\n"
      ],
      "metadata": {
        "colab": {
          "base_uri": "https://localhost:8080/"
        },
        "id": "SSLjjhcOydLw",
        "outputId": "436ad28b-9707-4bfd-96f8-adc6eb622eba"
      },
      "execution_count": null,
      "outputs": [
        {
          "output_type": "stream",
          "name": "stdout",
          "text": [
            "Média da ee_003: 13449.55\n",
            "Mediana da ee_003: 11089.00\n",
            "Desvio padrão da ee_003: 9665.45\n"
          ]
        }
      ]
    },
    {
      "cell_type": "code",
      "source": [
        "# Calcular a média, mediana e desvio padrão da coluna 'ee_003' ignorando os valores nulos\n",
        "media_ee_003 = df['ee_003'].mean(skipna=True)\n",
        "mediana_ee_003 = df['ee_003'].median(skipna=True)\n",
        "desvio_padrao_ee_003 = df['ee_003'].std(skipna=True)\n",
        "\n",
        "print(f\"Média da ee_003: {media_ee_003:.2f}\")\n",
        "print(f\"Mediana da ee_003: {mediana_ee_003:.2f}\")\n",
        "print(f\"Desvio padrão da ee_003: {desvio_padrao_ee_003:.2f}\")\n"
      ],
      "metadata": {
        "colab": {
          "base_uri": "https://localhost:8080/"
        },
        "id": "MdwWZur-ydIs",
        "outputId": "5d6c5fa1-2c01-4d52-d8f5-8c68e759d04a"
      },
      "execution_count": null,
      "outputs": [
        {
          "output_type": "stream",
          "name": "stdout",
          "text": [
            "Média da ee_003: 13449.55\n",
            "Mediana da ee_003: 11089.00\n",
            "Desvio padrão da ee_003: 9665.45\n"
          ]
        }
      ]
    },
    {
      "cell_type": "code",
      "source": [
        "# Calcular a média, mediana e desvio padrão da coluna 'ee_003' ignorando os valores nulos\n",
        "media_ag_002 = df['ag_002'].mean(skipna=True)\n",
        "mediana_ag_002 = df['ag_002'].median(skipna=True)\n",
        "desvio_padrao_ag_002 = df['ag_002'].std(skipna=True)\n",
        "\n",
        "print(f\"Média da ag_002: {media_ag_002:.2f}\")\n",
        "print(f\"Mediana da ag_002: {mediana_ag_002:.2f}\")\n",
        "print(f\"Desvio padrão da ag_002: {desvio_padrao_ag_002:.2f}\")"
      ],
      "metadata": {
        "colab": {
          "base_uri": "https://localhost:8080/"
        },
        "id": "K4cogsnAydGF",
        "outputId": "594b98ff-d973-4dd5-8141-ea750d7aaacb"
      },
      "execution_count": null,
      "outputs": [
        {
          "output_type": "stream",
          "name": "stdout",
          "text": [
            "Média da ag_002: 55.01\n",
            "Mediana da ag_002: 0.00\n",
            "Desvio padrão da ag_002: 284.84\n"
          ]
        }
      ]
    },
    {
      "cell_type": "code",
      "source": [
        "# Preencher valores nulos com a mediana das colunas 'ag002' e 'ee007'\n",
        "df['ag_002'] = df['ag_002'].fillna(df['ag_002'].median())\n",
        "df['ee_007'] = df['ee_007'].fillna(df['ee_007'].median())\n",
        "\n",
        "# Calcular o coeficiente de correlação entre 'ag002' e 'ee007'\n",
        "correlation = df['ag_002'].corr(df['ee_007'])\n",
        "\n",
        "print(f\"Coeficiente de correlação entre ag002 e ee007: {correlation:.4f}\")\n"
      ],
      "metadata": {
        "colab": {
          "base_uri": "https://localhost:8080/"
        },
        "id": "xKfBB-Whyc8Y",
        "outputId": "8a1a0099-a133-4777-cce0-d5e64382975f"
      },
      "execution_count": null,
      "outputs": [
        {
          "output_type": "stream",
          "name": "stdout",
          "text": [
            "Coeficiente de correlação entre ag002 e ee007: 0.0825\n"
          ]
        }
      ]
    },
    {
      "cell_type": "code",
      "source": [
        "# Calcular o coeficiente de correlação entre 'ag002' e 'ee007' ignorando valores nulos\n",
        "correlation = df['ag_002'].corr(df['ee_007'])\n",
        "\n",
        "print(f\"Coeficiente de correlação entre ag002 e ee007: {correlation:.4f}\")\n"
      ],
      "metadata": {
        "colab": {
          "base_uri": "https://localhost:8080/"
        },
        "id": "oaT7Kcck8PKZ",
        "outputId": "eafa50f1-8cc3-4f7e-b3e3-65eb85f99681"
      },
      "execution_count": null,
      "outputs": [
        {
          "output_type": "stream",
          "name": "stdout",
          "text": [
            "Coeficiente de correlação entre ag002 e ee007: 0.0825\n"
          ]
        }
      ]
    },
    {
      "cell_type": "code",
      "source": [
        "# Calcular o coeficiente de correlação de Pearson entre 'ee005' e 'ac000'\n",
        "correlation = df['ee_005'].corr(df['ac_000'])\n",
        "\n",
        "print(f\"Coeficiente de correlação de Pearson entre ee005 e ac000: {correlation:.4f}\")"
      ],
      "metadata": {
        "colab": {
          "base_uri": "https://localhost:8080/"
        },
        "id": "_E0OfgZv8O_v",
        "outputId": "f4aeb0ca-e2f8-4328-bada-1c5dca1949b3"
      },
      "execution_count": null,
      "outputs": [
        {
          "output_type": "stream",
          "name": "stdout",
          "text": [
            "Coeficiente de correlação de Pearson entre ee005 e ac000: 0.0884\n"
          ]
        }
      ]
    },
    {
      "cell_type": "code",
      "source": [
        "# Carregar os dados (ajuste o caminho para o seu dataset)\n",
        "df_previous_years = pd.read_csv(\"/content/air_system_previous_years.csv\")\n",
        "df_present_year = pd.read_csv(\"/content/air_system_present_year.csv\")\n",
        "\n",
        "# Substituir 'na' por NaN\n",
        "df_previous_years = df_previous_years.replace('na', np.nan)\n",
        "df_present_year = df_present_year.replace('na', np.nan)\n",
        "\n",
        "# Converter colunas para tipos numéricos\n",
        "df_previous_years['ee_005'] = pd.to_numeric(df_previous_years['ee_005'], errors='coerce')\n",
        "df_previous_years['ac_000'] = pd.to_numeric(df_previous_years['ac_000'], errors='coerce')\n",
        "\n",
        "df_present_year['ee_005'] = pd.to_numeric(df_present_year['ee_005'], errors='coerce')\n",
        "df_present_year['ac_000'] = pd.to_numeric(df_present_year['ac_000'], errors='coerce')\n",
        "\n",
        "# Preencher valores nulos com a mediana das colunas 'ee_005' e 'ac_000' nos datasets separadamente\n",
        "df_previous_years['ee_005'] = df_previous_years['ee_005'].fillna(df_previous_years['ee_005'].median())\n",
        "df_previous_years['ac_000'] = df_previous_years['ac_000'].fillna(df_previous_years['ac_000'].median())\n",
        "\n",
        "df_present_year['ee_005'] = df_present_year['ee_005'].fillna(df_present_year['ee_005'].median())\n",
        "df_present_year['ac_000'] = df_present_year['ac_000'].fillna(df_present_year['ac_000'].median())\n",
        "\n",
        "# Calcular o coeficiente de correlação de Pearson entre 'ee_005' e 'ac_000' para os anos anteriores\n",
        "correlation_previous_years = df_previous_years['ee_005'].corr(df_previous_years['ac_000'])\n",
        "\n",
        "# Calcular o coeficiente de correlação de Pearson entre 'ee_005' e 'ac_000' para o ano presente\n",
        "correlation_present_year = df_present_year['ee_005'].corr(df_present_year['ac_000'])\n",
        "\n",
        "print(f\"Coeficiente de correlação de Pearson entre ee_005 e ac_000 nos anos anteriores: {correlation_previous_years:.4f}\")\n",
        "print(f\"Coeficiente de correlação de Pearson entre ee_005 e ac_000 no ano presente: {correlation_present_year:.4f}\")\n",
        "\n"
      ],
      "metadata": {
        "id": "iVCX6UmNXQO1",
        "colab": {
          "base_uri": "https://localhost:8080/"
        },
        "outputId": "900801b6-af74-4715-fdfb-e24a276feefa"
      },
      "execution_count": null,
      "outputs": [
        {
          "output_type": "stream",
          "name": "stdout",
          "text": [
            "Coeficiente de correlação de Pearson entre ee_005 e ac_000 nos anos anteriores: -0.0396\n",
            "Coeficiente de correlação de Pearson entre ee_005 e ac_000 no ano presente: -0.0477\n"
          ]
        }
      ]
    },
    {
      "cell_type": "code",
      "source": [
        "df = pd.concat([df_previous_years, df_present_year])\n",
        "\n",
        "# Substituir 'na' por NaN, se necessário\n",
        "df = df.replace('na', np.nan)\n",
        "\n",
        "# Converter 'ad_000' para tipo numérico\n",
        "df['ad_000'] = pd.to_numeric(df['ad_000'], errors='coerce')\n",
        "\n",
        "# Remover linhas onde 'ad_000' é NaN\n",
        "df = df.dropna(subset=['ad_000'])\n",
        "\n",
        "# Agrupar por 'class' e calcular a mediana de 'ad_000'\n",
        "median_by_class = df.groupby('class')['ad_000'].median()\n",
        "\n",
        "print(median_by_class)\n"
      ],
      "metadata": {
        "colab": {
          "base_uri": "https://localhost:8080/"
        },
        "id": "wmIGqkz1-xz8",
        "outputId": "09f415f3-9797-4fa1-ee84-2854524f34db"
      },
      "execution_count": null,
      "outputs": [
        {
          "output_type": "stream",
          "name": "stdout",
          "text": [
            "class\n",
            "neg    126.0\n",
            "pos    648.0\n",
            "Name: ad_000, dtype: float64\n"
          ]
        }
      ]
    },
    {
      "cell_type": "code",
      "source": [
        "# Converter 'ee_001' para tipo numérico\n",
        "df['ee_001'] = pd.to_numeric(df['ee_001'], errors='coerce')\n",
        "\n",
        "# Remover linhas onde 'ee_001' é NaN\n",
        "df = df.dropna(subset=['ee_001'])\n",
        "\n",
        "# Agrupar por 'class' e calcular a média de 'ee_001'\n",
        "mean_by_class = df.groupby('class')['ee_001'].mean()\n",
        "\n",
        "print(mean_by_class)\n"
      ],
      "metadata": {
        "colab": {
          "base_uri": "https://localhost:8080/"
        },
        "id": "w0djBod0-xpD",
        "outputId": "4c4dd1b7-062d-40b4-bc3d-e62332dc89b9"
      },
      "execution_count": null,
      "outputs": [
        {
          "output_type": "stream",
          "name": "stdout",
          "text": [
            "class\n",
            "neg    4.561012e+05\n",
            "pos    3.742243e+06\n",
            "Name: ee_001, dtype: float64\n"
          ]
        }
      ]
    },
    {
      "cell_type": "code",
      "source": [
        "# Carregar os dados (ajuste o caminho para os seus arquivos)\n",
        "df_previous_years = pd.read_csv(\"/content/air_system_previous_years.csv\")\n",
        "df_present_year = pd.read_csv(\"/content/air_system_present_year.csv\")\n",
        "\n",
        "# Substituir 'na' por NaN e converter 'ee_001' para tipo numérico\n",
        "for df in [df_previous_years, df_present_year]:\n",
        "    df.replace('na', np.nan, inplace=True)\n",
        "    df['ee_001'] = pd.to_numeric(df['ee_001'], errors='coerce')\n",
        "\n",
        "# Remover linhas onde 'ee_001' é NaN\n",
        "df_previous_years = df_previous_years.dropna(subset=['ee_001'])\n",
        "df_present_year = df_present_year.dropna(subset=['ee_001'])\n",
        "\n",
        "# Agrupar por 'class' e calcular a média de 'ee_001'\n",
        "mean_previous_years = df_previous_years.groupby('class')['ee_001'].mean()\n",
        "mean_present_year = df_present_year.groupby('class')['ee_001'].mean()\n",
        "\n",
        "print(\"Média de 'ee_001' por 'class' para os anos anteriores:\")\n",
        "print(mean_previous_years)\n",
        "\n",
        "print(\"\\nMédia de 'ee_001' por 'class' para o ano presente:\")\n",
        "print(mean_present_year)\n"
      ],
      "metadata": {
        "colab": {
          "base_uri": "https://localhost:8080/"
        },
        "id": "bbZUrzLD-xcc",
        "outputId": "e6e66bc1-8c38-4965-ad74-c0c352e732ad"
      },
      "execution_count": null,
      "outputs": [
        {
          "output_type": "stream",
          "name": "stdout",
          "text": [
            "Média de 'ee_001' por 'class' para os anos anteriores:\n",
            "class\n",
            "neg    6.615160e+05\n",
            "pos    7.957408e+06\n",
            "Name: ee_001, dtype: float64\n",
            "\n",
            "Média de 'ee_001' por 'class' para o ano presente:\n",
            "class\n",
            "neg    6.308783e+05\n",
            "pos    8.048383e+06\n",
            "Name: ee_001, dtype: float64\n"
          ]
        }
      ]
    },
    {
      "cell_type": "code",
      "source": [
        "# Substituir 'na' por NaN e converter 'ee_001' para tipo numérico\n",
        "for df in [df_previous_years, df_present_year]:\n",
        "    df.replace('na', np.nan, inplace=True)\n",
        "    df['ee_001'] = pd.to_numeric(df['ee_001'], errors='coerce')\n",
        "\n",
        "# Combinar os datasets\n",
        "df_combined = pd.concat([df_previous_years, df_present_year])\n",
        "\n",
        "# Remover linhas onde 'ee_001' é NaN\n",
        "df_combined = df_combined.dropna(subset=['ee_001'])\n",
        "\n",
        "# Agrupar por 'class' e calcular a média de 'ee_001'\n",
        "mean_combined = df_combined.groupby('class')['ee_001'].mean()\n",
        "\n",
        "print(\"Média de 'ee_001' por 'class' para o conjunto combinado dos datasets:\")\n",
        "print(mean_combined)\n"
      ],
      "metadata": {
        "id": "Gn9f9GeAGKFX",
        "outputId": "60c7dea1-208c-45ed-dbf0-e40b0c108d41",
        "colab": {
          "base_uri": "https://localhost:8080/"
        }
      },
      "execution_count": null,
      "outputs": [
        {
          "output_type": "stream",
          "name": "stdout",
          "text": [
            "Média de 'ee_001' por 'class' para o conjunto combinado dos datasets:\n",
            "class\n",
            "neg    6.551049e+05\n",
            "pos    7.982116e+06\n",
            "Name: ee_001, dtype: float64\n"
          ]
        }
      ]
    },
    {
      "cell_type": "code",
      "source": [
        "# Contar o número total de valores nulos\n",
        "total_null_values = df_combined.isnull().sum().sum()\n",
        "\n",
        "print(f\"Número total de valores nulos no DataFrame combinado: {total_null_values}\")\n"
      ],
      "metadata": {
        "id": "M7JrbxdYGKCC",
        "outputId": "0e0a92eb-2833-4c7e-ffc7-6ae88c31f377",
        "colab": {
          "base_uri": "https://localhost:8080/"
        }
      },
      "execution_count": null,
      "outputs": [
        {
          "output_type": "stream",
          "name": "stdout",
          "text": [
            "Número total de valores nulos no DataFrame combinado: 983888\n"
          ]
        }
      ]
    },
    {
      "cell_type": "code",
      "source": [
        "# Contar o número total de valores nulos\n",
        "total_null_values = df_combined.isnull().sum().sum()\n",
        "\n",
        "print(f\"Número total de valores nulos no DataFrame combinado: {total_null_values}\")\n"
      ],
      "metadata": {
        "id": "iH9pz_0eKfbe",
        "outputId": "e4585c2a-78e3-4a53-fa9c-ed8395aaa112",
        "colab": {
          "base_uri": "https://localhost:8080/"
        }
      },
      "execution_count": null,
      "outputs": [
        {
          "output_type": "stream",
          "name": "stdout",
          "text": [
            "Número total de valores nulos no DataFrame combinado: 983888\n"
          ]
        }
      ]
    },
    {
      "cell_type": "code",
      "source": [
        "# Contar o número de valores nulos por coluna\n",
        "null_counts = df_combined.isnull().sum()\n",
        "\n",
        "# Classificar as colunas pelo número de valores nulos em ordem decrescente\n",
        "sorted_null_counts = null_counts.sort_values(ascending=False)\n",
        "\n",
        "# Identificar a 4ª coluna na classificação\n",
        "fourth_column = sorted_null_counts.index[3]\n",
        "\n",
        "print(f\"A coluna que está na 4ª posição quando classificamos os valores nulos em ordem decrescente é: {fourth_column}\")\n"
      ],
      "metadata": {
        "id": "5hz1ov2fGJ_K",
        "outputId": "de118f8f-6755-425a-f827-6a70f5faf4d4",
        "colab": {
          "base_uri": "https://localhost:8080/"
        }
      },
      "execution_count": null,
      "outputs": [
        {
          "output_type": "stream",
          "name": "stdout",
          "text": [
            "A coluna que está na 4ª posição quando classificamos os valores nulos em ordem decrescente é: bo_000\n"
          ]
        }
      ]
    },
    {
      "cell_type": "code",
      "source": [
        "# Converter a coluna 'ci_000' para valores numéricos, forçando erros a NaN\n",
        "df['ci_000'] = pd.to_numeric(df['ci_000'], errors='coerce')\n",
        "\n",
        "# Remover valores nulos na coluna 'ci_000'\n",
        "df_clean = df['ci_000'].dropna()\n",
        "\n",
        "# Calcular o valor do quantil 0.32\n",
        "quantile_32_value = df_clean.quantile(0.32)\n",
        "\n",
        "print(f\"O valor do quantil 0.32 da variável 'ci_000' é: {quantile_32_value:.4f}\")"
      ],
      "metadata": {
        "id": "mQT2cnsnMp1c",
        "outputId": "f659cf22-8322-48e4-b035-e33b046624e1",
        "colab": {
          "base_uri": "https://localhost:8080/"
        }
      },
      "execution_count": null,
      "outputs": [
        {
          "output_type": "stream",
          "name": "stdout",
          "text": [
            "O valor do quantil 0.32 da variável 'ci_000' é: 100961.3184\n"
          ]
        }
      ]
    },
    {
      "cell_type": "markdown",
      "source": [
        "## **Modelos de Machine Learning**"
      ],
      "metadata": {
        "id": "booDWGb8S5Wo"
      }
    },
    {
      "cell_type": "code",
      "source": [
        "# target_column = variável alvo\n",
        "y = df['class']\n",
        "X = df.drop('class', axis=1)"
      ],
      "metadata": {
        "id": "EGO-L7uIXQCR"
      },
      "execution_count": null,
      "outputs": []
    },
    {
      "cell_type": "code",
      "source": [
        "target_column = 'class'\n",
        "X = df_previous_years.drop(target_column, axis=1)\n",
        "y = df_previous_years[target_column]"
      ],
      "metadata": {
        "id": "BuVu2SNoBi03"
      },
      "execution_count": null,
      "outputs": []
    },
    {
      "cell_type": "code",
      "source": [
        "# Divisão dos dados entre treino e teste\n",
        "X_train, X_test, y_train, y_test = train_test_split(X, y, test_size=0.2, random_state=42)"
      ],
      "metadata": {
        "id": "Oz6ZgbIA0SGY"
      },
      "execution_count": null,
      "outputs": []
    },
    {
      "cell_type": "code",
      "source": [
        "# Imputando valores ausentes com a mediana para variáveis numéricas\n",
        "for col in df_previous_years.select_dtypes(include=['number']).columns:\n",
        "    df_previous_years[col] = df_previous_years[col].fillna(df_previous_years[col].median())\n",
        "for col in df_present_year.select_dtypes(include=['number']).columns:\n",
        "    df_present_year[col] = df_present_year[col].fillna(df_present_year[col].median())"
      ],
      "metadata": {
        "id": "xdNt_iaA0SAV"
      },
      "execution_count": null,
      "outputs": []
    },
    {
      "cell_type": "code",
      "source": [
        "# Imputando valores ausentes com o valor mais frequente para variáveis categóricas\n",
        "for col in df_previous_years.select_dtypes(include=['object']).columns:\n",
        "    df_previous_years[col] = df_previous_years[col].fillna(df_previous_years[col].mode()[0])\n",
        "\n",
        "for col in df_present_year.select_dtypes(include=['object']).columns:\n",
        "    df_present_year[col] = df_present_year[col].fillna(df_present_year[col].mode()[0])"
      ],
      "metadata": {
        "id": "bisRcrDB0Ry4"
      },
      "execution_count": null,
      "outputs": []
    },
    {
      "cell_type": "code",
      "source": [
        "# Codificando variáveis categóricas\n",
        "label_encoders = {}\n",
        "for col in df_previous_years.select_dtypes(include=['object']).columns:\n",
        "    le = LabelEncoder()\n",
        "    df_previous_years[col] = le.fit_transform(df_previous_years[col].astype(str))"
      ],
      "metadata": {
        "id": "-xeLS4cb1VBJ"
      },
      "execution_count": null,
      "outputs": []
    },
    {
      "cell_type": "code",
      "source": [
        "# Substituindo 'na' por NaN\n",
        "df_previous_years = df_previous_years.replace('na', np.nan)\n",
        "df_present_year = df_present_year.replace('na', np.nan)\n",
        "\n",
        "# Imputar valores ausentes com a mediana para variáveis numéricas\n",
        "for col in df_previous_years.select_dtypes(include=['number']).columns:\n",
        "    df_previous_years[col] = df_previous_years[col].fillna(df_previous_years[col].median())\n",
        "\n",
        "for col in df_present_year.select_dtypes(include=['number']).columns:\n",
        "    df_present_year[col] = df_present_year[col].fillna(df_present_year[col].median())\n",
        "\n",
        "# Imputar valores ausentes com o valor mais frequente para variáveis categóricas\n",
        "for col in df_previous_years.select_dtypes(include=['object']).columns:\n",
        "    df_previous_years[col] = df_previous_years[col].fillna(df_previous_years[col].mode()[0])\n",
        "\n",
        "for col in df_present_year.select_dtypes(include=['object']).columns:\n",
        "    df_present_year[col] = df_present_year[col].fillna(df_present_year[col].mode()[0])"
      ],
      "metadata": {
        "id": "99PwLGsO-tCQ"
      },
      "execution_count": null,
      "outputs": []
    },
    {
      "cell_type": "code",
      "source": [
        "# Dividir os dados em features (X) e target (y)\n",
        "target_column = 'class'\n",
        "X = df_previous_years.drop(target_column, axis=1)\n",
        "y = df_previous_years[target_column]"
      ],
      "metadata": {
        "id": "DiWaYefb_7zP"
      },
      "execution_count": null,
      "outputs": []
    },
    {
      "cell_type": "code",
      "source": [
        "# Dividir os dados em treino e teste\n",
        "X_train, X_test, y_train, y_test = train_test_split(X, y, test_size=0.2, random_state=42)"
      ],
      "metadata": {
        "id": "EkzgJGSp_7lp"
      },
      "execution_count": null,
      "outputs": []
    },
    {
      "cell_type": "markdown",
      "source": [
        "## **Árvore de decisão**"
      ],
      "metadata": {
        "id": "r4c_pO9rEnes"
      }
    },
    {
      "cell_type": "code",
      "source": [
        "# Treinar um modelo de árvore de decisão\n",
        "clf = DecisionTreeClassifier(random_state=42)\n",
        "clf.fit(X_train, y_train)"
      ],
      "metadata": {
        "id": "frFjWs-TAGx4",
        "outputId": "8e750d6a-9af0-4bfa-dc66-aad8aca7294b",
        "colab": {
          "base_uri": "https://localhost:8080/",
          "height": 75
        }
      },
      "execution_count": null,
      "outputs": [
        {
          "output_type": "execute_result",
          "data": {
            "text/plain": [
              "DecisionTreeClassifier(random_state=42)"
            ],
            "text/html": [
              "<style>#sk-container-id-1 {color: black;}#sk-container-id-1 pre{padding: 0;}#sk-container-id-1 div.sk-toggleable {background-color: white;}#sk-container-id-1 label.sk-toggleable__label {cursor: pointer;display: block;width: 100%;margin-bottom: 0;padding: 0.3em;box-sizing: border-box;text-align: center;}#sk-container-id-1 label.sk-toggleable__label-arrow:before {content: \"▸\";float: left;margin-right: 0.25em;color: #696969;}#sk-container-id-1 label.sk-toggleable__label-arrow:hover:before {color: black;}#sk-container-id-1 div.sk-estimator:hover label.sk-toggleable__label-arrow:before {color: black;}#sk-container-id-1 div.sk-toggleable__content {max-height: 0;max-width: 0;overflow: hidden;text-align: left;background-color: #f0f8ff;}#sk-container-id-1 div.sk-toggleable__content pre {margin: 0.2em;color: black;border-radius: 0.25em;background-color: #f0f8ff;}#sk-container-id-1 input.sk-toggleable__control:checked~div.sk-toggleable__content {max-height: 200px;max-width: 100%;overflow: auto;}#sk-container-id-1 input.sk-toggleable__control:checked~label.sk-toggleable__label-arrow:before {content: \"▾\";}#sk-container-id-1 div.sk-estimator input.sk-toggleable__control:checked~label.sk-toggleable__label {background-color: #d4ebff;}#sk-container-id-1 div.sk-label input.sk-toggleable__control:checked~label.sk-toggleable__label {background-color: #d4ebff;}#sk-container-id-1 input.sk-hidden--visually {border: 0;clip: rect(1px 1px 1px 1px);clip: rect(1px, 1px, 1px, 1px);height: 1px;margin: -1px;overflow: hidden;padding: 0;position: absolute;width: 1px;}#sk-container-id-1 div.sk-estimator {font-family: monospace;background-color: #f0f8ff;border: 1px dotted black;border-radius: 0.25em;box-sizing: border-box;margin-bottom: 0.5em;}#sk-container-id-1 div.sk-estimator:hover {background-color: #d4ebff;}#sk-container-id-1 div.sk-parallel-item::after {content: \"\";width: 100%;border-bottom: 1px solid gray;flex-grow: 1;}#sk-container-id-1 div.sk-label:hover label.sk-toggleable__label {background-color: #d4ebff;}#sk-container-id-1 div.sk-serial::before {content: \"\";position: absolute;border-left: 1px solid gray;box-sizing: border-box;top: 0;bottom: 0;left: 50%;z-index: 0;}#sk-container-id-1 div.sk-serial {display: flex;flex-direction: column;align-items: center;background-color: white;padding-right: 0.2em;padding-left: 0.2em;position: relative;}#sk-container-id-1 div.sk-item {position: relative;z-index: 1;}#sk-container-id-1 div.sk-parallel {display: flex;align-items: stretch;justify-content: center;background-color: white;position: relative;}#sk-container-id-1 div.sk-item::before, #sk-container-id-1 div.sk-parallel-item::before {content: \"\";position: absolute;border-left: 1px solid gray;box-sizing: border-box;top: 0;bottom: 0;left: 50%;z-index: -1;}#sk-container-id-1 div.sk-parallel-item {display: flex;flex-direction: column;z-index: 1;position: relative;background-color: white;}#sk-container-id-1 div.sk-parallel-item:first-child::after {align-self: flex-end;width: 50%;}#sk-container-id-1 div.sk-parallel-item:last-child::after {align-self: flex-start;width: 50%;}#sk-container-id-1 div.sk-parallel-item:only-child::after {width: 0;}#sk-container-id-1 div.sk-dashed-wrapped {border: 1px dashed gray;margin: 0 0.4em 0.5em 0.4em;box-sizing: border-box;padding-bottom: 0.4em;background-color: white;}#sk-container-id-1 div.sk-label label {font-family: monospace;font-weight: bold;display: inline-block;line-height: 1.2em;}#sk-container-id-1 div.sk-label-container {text-align: center;}#sk-container-id-1 div.sk-container {/* jupyter's `normalize.less` sets `[hidden] { display: none; }` but bootstrap.min.css set `[hidden] { display: none !important; }` so we also need the `!important` here to be able to override the default hidden behavior on the sphinx rendered scikit-learn.org. See: https://github.com/scikit-learn/scikit-learn/issues/21755 */display: inline-block !important;position: relative;}#sk-container-id-1 div.sk-text-repr-fallback {display: none;}</style><div id=\"sk-container-id-1\" class=\"sk-top-container\"><div class=\"sk-text-repr-fallback\"><pre>DecisionTreeClassifier(random_state=42)</pre><b>In a Jupyter environment, please rerun this cell to show the HTML representation or trust the notebook. <br />On GitHub, the HTML representation is unable to render, please try loading this page with nbviewer.org.</b></div><div class=\"sk-container\" hidden><div class=\"sk-item\"><div class=\"sk-estimator sk-toggleable\"><input class=\"sk-toggleable__control sk-hidden--visually\" id=\"sk-estimator-id-1\" type=\"checkbox\" checked><label for=\"sk-estimator-id-1\" class=\"sk-toggleable__label sk-toggleable__label-arrow\">DecisionTreeClassifier</label><div class=\"sk-toggleable__content\"><pre>DecisionTreeClassifier(random_state=42)</pre></div></div></div></div></div>"
            ]
          },
          "metadata": {},
          "execution_count": 24
        }
      ]
    },
    {
      "cell_type": "code",
      "source": [
        "# Fazer previsões no conjunto de teste\n",
        "y_pred = clf.predict(X_test)"
      ],
      "metadata": {
        "id": "M9lKY0rhAGmH"
      },
      "execution_count": null,
      "outputs": []
    },
    {
      "cell_type": "code",
      "source": [
        "# Avaliar o desempenho do modelo\n",
        "accuracy = accuracy_score(y_test, y_pred)\n",
        "print(\"Acurácia do modelo:\", accuracy)"
      ],
      "metadata": {
        "id": "wSVILSAW-swV",
        "outputId": "d91eb204-431e-4428-f5c5-a7b232bc802c",
        "colab": {
          "base_uri": "https://localhost:8080/"
        }
      },
      "execution_count": null,
      "outputs": [
        {
          "output_type": "stream",
          "name": "stdout",
          "text": [
            "Acurácia do modelo: 0.9863333333333333\n"
          ]
        }
      ]
    },
    {
      "cell_type": "code",
      "source": [
        "# Realizar validação cruzada\n",
        "cv_scores = cross_val_score(clf, X, y, cv=5)\n",
        "print(\"Acurácia média da validação cruzada:\", cv_scores.mean())"
      ],
      "metadata": {
        "id": "EyMk-SCNAW40",
        "outputId": "9cff97a4-c91a-43d9-e277-c6ea108ece65",
        "colab": {
          "base_uri": "https://localhost:8080/"
        }
      },
      "execution_count": null,
      "outputs": [
        {
          "output_type": "stream",
          "name": "stdout",
          "text": [
            "Acurácia média da validação cruzada: 0.9870833333333333\n"
          ]
        }
      ]
    },
    {
      "cell_type": "code",
      "source": [
        "# Treinar um modelo de árvore de decisão\n",
        "clf = DecisionTreeClassifier(random_state=42)\n",
        "clf.fit(X_train, y_train)\n",
        "\n",
        "# Fazer previsões no conjunto de teste\n",
        "y_pred = clf.predict(X_test)\n",
        "\n",
        "# Calcular as probabilidades de previsão\n",
        "y_proba = clf.predict_proba(X_test)[:, 1]\n",
        "\n",
        "# Avaliar o desempenho do modelo\n",
        "accuracy = accuracy_score(y_test, y_pred)\n",
        "print(\"Acurácia do modelo:\", accuracy)\n",
        "\n",
        "# Realizar validação cruzada\n",
        "cv_scores = cross_val_score(clf, X, y, cv=5)  # Assuming X and y are defined\n",
        "print(\"Acurácia média da validação cruzada:\", cv_scores.mean())\n",
        "\n",
        "# Calcular o ROC AUC\n",
        "roc_auc = roc_auc_score(y_test, y_proba)\n",
        "print(f\"ROC AUC da Decision Tree: {roc_auc:.4f}\")"
      ],
      "metadata": {
        "colab": {
          "base_uri": "https://localhost:8080/"
        },
        "id": "GwNJ5ZtGrik7",
        "outputId": "6c0d256b-b577-4ad1-ad63-8cd24a7b415e"
      },
      "execution_count": null,
      "outputs": [
        {
          "output_type": "stream",
          "name": "stdout",
          "text": [
            "Acurácia do modelo: 0.9863333333333333\n",
            "Acurácia média da validação cruzada: 0.9870833333333333\n",
            "ROC AUC da Decision Tree: 0.7730\n"
          ]
        }
      ]
    },
    {
      "cell_type": "markdown",
      "source": [
        "****"
      ],
      "metadata": {
        "id": "MtkFY3NCBQbz"
      }
    },
    {
      "cell_type": "markdown",
      "source": [
        "# **Regressão Logistica**"
      ],
      "metadata": {
        "id": "n7j_i9OfEKt9"
      }
    },
    {
      "cell_type": "code",
      "source": [
        "# Escalar os dados\n",
        "scaler = StandardScaler()\n",
        "X_train_scaled = scaler.fit_transform(X_train)\n",
        "X_test_scaled = scaler.transform(X_test)\n",
        "\n",
        "# Inicializar e treinar o modelo de Regressão Logística\n",
        "log_reg = LogisticRegression(random_state=42, max_iter=20000, solver='liblinear')\n",
        "log_reg.fit(X_train_scaled, y_train)\n",
        "\n",
        "# Fazer previsões no conjunto de teste\n",
        "y_pred = log_reg.predict(X_test_scaled)\n",
        "\n",
        "# Calcular as probabilidades de previsão\n",
        "y_proba = log_reg.predict_proba(X_test_scaled)[:, 1]\n",
        "\n",
        "# Avaliar o desempenho do modelo\n",
        "accuracy = accuracy_score(y_test, y_pred)\n",
        "print(\"Acurácia do modelo de Regressão Logística:\", accuracy)"
      ],
      "metadata": {
        "colab": {
          "base_uri": "https://localhost:8080/"
        },
        "id": "4fuvpSCbtboj",
        "outputId": "9ba8099c-a32e-4345-8ad4-72de20107376"
      },
      "execution_count": null,
      "outputs": [
        {
          "output_type": "stream",
          "name": "stdout",
          "text": [
            "Acurácia do modelo de Regressão Logística: 0.986\n"
          ]
        }
      ]
    },
    {
      "cell_type": "code",
      "source": [
        "# Calculando o ROC AUC\n",
        "roc_auc = roc_auc_score(y_test, y_proba)\n",
        "print(f\"ROC AUC da Regressão Logística: {roc_auc:.4f}\")\n"
      ],
      "metadata": {
        "colab": {
          "base_uri": "https://localhost:8080/"
        },
        "id": "wm2OqLvJxSRi",
        "outputId": "1b405c25-3eaa-4e27-a72e-58c5cb77a6fc"
      },
      "execution_count": null,
      "outputs": [
        {
          "output_type": "stream",
          "name": "stdout",
          "text": [
            "ROC AUC da Regressão Logística: 0.9633\n"
          ]
        }
      ]
    },
    {
      "cell_type": "code",
      "source": [
        "# Realizando validação cruzada\n",
        "cv_scores = cross_val_score(log_reg, X, y, cv=5)  # Usando validação cruzada com 5 folds\n",
        "print(\"Acurácia média da validação cruzada:\", cv_scores.mean())"
      ],
      "metadata": {
        "colab": {
          "base_uri": "https://localhost:8080/"
        },
        "id": "OHdJFk0Cxc-D",
        "outputId": "80519117-76a8-488a-b7fc-f140fc2a1dce"
      },
      "execution_count": null,
      "outputs": [
        {
          "output_type": "stream",
          "name": "stdout",
          "text": [
            "Acurácia média da validação cruzada: 0.9868500000000001\n"
          ]
        }
      ]
    },
    {
      "cell_type": "code",
      "source": [
        "import matplotlib.pyplot as plt"
      ],
      "metadata": {
        "id": "TzhHUo0ZAWsJ"
      },
      "execution_count": null,
      "outputs": []
    },
    {
      "cell_type": "markdown",
      "source": [
        "# **Importância das features**"
      ],
      "metadata": {
        "id": "nWoRDTiYTdT3"
      }
    },
    {
      "cell_type": "code",
      "source": [
        "# Obtendo a importância das features\n",
        "feature_importances = clf.feature_importances_\n",
        "features = X.columns\n",
        "\n",
        "# Criando um DataFrame para a visualização\n",
        "importances_df = pd.DataFrame({'Feature': features, 'Importance': feature_importances})\n",
        "importances_df = importances_df.sort_values(by='Importance', ascending=False)\n",
        "\n",
        "# Limitando o número de features a exibir\n",
        "top_n = 30\n",
        "importances_df = importances_df.head(top_n)\n",
        "\n",
        "# Plotando a importância das features\n",
        "plt.figure(figsize=(10, 8))\n",
        "plt.barh(importances_df['Feature'], importances_df['Importance'])\n",
        "plt.xlabel('Importância')\n",
        "plt.ylabel('Feature')\n",
        "plt.title('Importância das Features')\n",
        "plt.gca().invert_yaxis()\n",
        "\n",
        "# Colocando os valores nas barras\n",
        "for index, value in enumerate(importances_df['Importance']):\n",
        "    plt.text(value, index, f'{value:.4f}')\n",
        "\n",
        "plt.show()\n"
      ],
      "metadata": {
        "id": "cLSVBOEWSYr6",
        "colab": {
          "base_uri": "https://localhost:8080/",
          "height": 719
        },
        "outputId": "a5ad6e1c-53a2-4357-f3f7-2c1ca0ba9380"
      },
      "execution_count": null,
      "outputs": [
        {
          "output_type": "display_data",
          "data": {
            "text/plain": [
              "<Figure size 1000x800 with 1 Axes>"
            ],
            "image/png": "[encoded data removed]"
          },
          "metadata": {}
        }
      ]
    },
    {
      "cell_type": "markdown",
      "source": [
        "# *Comparando Árvore de Decisão e Regressão Logística *"
      ],
      "metadata": {
        "id": "tJnLZbu6Fe8j"
      }
    },
    {
      "cell_type": "code",
      "source": [
        "# Escalando os dados\n",
        "scaler = StandardScaler()\n",
        "X_scaled = scaler.fit_transform(X)\n",
        "\n",
        "# Dividindo os dados em conjuntos de treinamento e teste\n",
        "X_train, X_test, y_train, y_test = train_test_split(X_scaled, y, test_size=0.2, random_state=42)\n",
        "\n",
        "# Inicializando e treinar o modelo de Decision Tree\n",
        "clf = DecisionTreeClassifier(random_state=42)\n",
        "clf.fit(X_train, y_train)\n",
        "\n",
        "# Fazendo previsões no conjunto de teste\n",
        "y_pred_clf = clf.predict(X_test)\n",
        "y_proba_clf = clf.predict_proba(X_test)[:, 1]\n",
        "\n",
        "# Avaliando o desempenho do modelo Decision Tree\n",
        "accuracy_clf = accuracy_score(y_test, y_pred_clf)\n",
        "roc_auc_clf = roc_auc_score(y_test, y_proba_clf)\n",
        "cv_scores_clf = cross_val_score(clf, X, y, cv=5).mean()\n",
        "\n",
        "print(\"Decision Tree - Acurácia:\", accuracy_clf)\n",
        "print(\"Decision Tree - ROC AUC:\", roc_auc_clf)\n",
        "print(\"Decision Tree - Validação Cruzada Média:\", cv_scores_clf)\n",
        "\n",
        "# Inicializando e treinaando o modelo de Regressão Logística\n",
        "log_reg = LogisticRegression(random_state=42, max_iter=20000, solver='liblinear')\n",
        "log_reg.fit(X_train, y_train)\n",
        "\n",
        "# Fazendo previsões no conjunto de teste\n",
        "y_pred_log_reg = log_reg.predict(X_test)\n",
        "y_proba_log_reg = log_reg.predict_proba(X_test)[:, 1]\n",
        "\n",
        "# Avaliando o desempenho do modelo de Regressão Logística\n",
        "accuracy_log_reg = accuracy_score(y_test, y_pred_log_reg)\n",
        "roc_auc_log_reg = roc_auc_score(y_test, y_proba_log_reg)\n",
        "cv_scores_log_reg = cross_val_score(log_reg, X, y, cv=5).mean()\n",
        "\n",
        "print(\"Regressão Logística - Acurácia:\", accuracy_log_reg)\n",
        "print(\"Regressão Logística - ROC AUC:\", roc_auc_log_reg)\n",
        "print(\"Regressão Logística - Validação Cruzada Média:\", cv_scores_log_reg)\n",
        "\n",
        "# Comparando os modelos\n",
        "if roc_auc_clf > roc_auc_log_reg:\n",
        "    best_model = \"Decision Tree\"\n",
        "else:\n",
        "    best_model = \"Regressão Logística\"\n",
        "\n",
        "print(f\"Melhor modelo baseado em ROC AUC: {best_model}\")\n"
      ],
      "metadata": {
        "id": "Lz3_tIms1U9x",
        "colab": {
          "base_uri": "https://localhost:8080/"
        },
        "outputId": "e7dc9910-79df-48b4-fb11-12b5901ba4b1"
      },
      "execution_count": null,
      "outputs": [
        {
          "output_type": "stream",
          "name": "stdout",
          "text": [
            "Decision Tree - Acurácia: 0.9863333333333333\n",
            "Decision Tree - ROC AUC: 0.7730166911025602\n",
            "Decision Tree - Validação Cruzada Média: 0.9870833333333333\n",
            "Regressão Logística - Acurácia: 0.986\n",
            "Regressão Logística - ROC AUC: 0.9632557253618967\n",
            "Regressão Logística - Validação Cruzada Média: 0.9868500000000001\n",
            "Melhor modelo baseado em ROC AUC: Regressão Logística\n"
          ]
        }
      ]
    },
    {
      "cell_type": "code",
      "source": [],
      "metadata": {
        "id": "8vBgCApfxxwF"
      },
      "execution_count": null,
      "outputs": []
    },
    {
      "cell_type": "code",
      "source": [
        "from sklearn.model_selection import GridSearchCV\n",
        "from sklearn.linear_model import LogisticRegression # Assuming you want to use Logistic Regression\n",
        "\n",
        "# Define the model\n",
        "best_model = LogisticRegression() # You can replace this with your desired model\n",
        "\n",
        "# Otimização de hiperparâmetros com GridSearchCV\n",
        "param_grid = {\n",
        "    \"Decision Tree\": {\"max_depth\": [3, 5, 10, None], \"min_samples_split\": [2, 5, 10]},\n",
        "    \"Logistic Regression\": {\"C\": [0.1, 1, 10, 100]},\n",
        "    \"Random Forest\": {\"n_estimators\": [10, 50, 100], \"max_features\": ['auto', 'sqrt', 'log2']}\n",
        "}\n",
        "\n",
        "# Ensure best_model_name is defined - replace with your actual model name\n",
        "best_model_name = \"Logistic Regression\"\n",
        "\n",
        "grid_search = GridSearchCV(best_model, param_grid[best_model_name], cv=5, scoring='roc_auc')\n",
        "grid_search.fit(X_train, y_train)\n",
        "print(f\"Melhores hiperparâmetros para {best_model_name}: {grid_search.best_params_}\")"
      ],
      "metadata": {
        "id": "CUHGrT7m1U3-"
      },
      "execution_count": null,
      "outputs": []
    },
    {
      "cell_type": "code",
      "source": [
        "from sklearn.preprocessing import StandardScaler\n",
        "\n",
        "# Escalando os dados\n",
        "scaler = StandardScaler()\n",
        "X_train_scaled = scaler.fit_transform(X_train)\n",
        "X_test_scaled = scaler.transform(X_test)\n"
      ],
      "metadata": {
        "id": "-5M7QUHo1Uhd"
      },
      "execution_count": null,
      "outputs": []
    },
    {
      "cell_type": "code",
      "source": [
        "from sklearn.linear_model import LogisticRegression\n",
        "from sklearn.model_selection import GridSearchCV\n",
        "from sklearn.preprocessing import StandardScaler\n",
        "\n",
        "# Escalando os dados\n",
        "scaler = StandardScaler()\n",
        "X_train_scaled = scaler.fit_transform(X_train)\n",
        "X_test_scaled = scaler.transform(X_test)\n",
        "\n",
        "# Definindo o modelo com um número maior de iterações\n",
        "best_model = LogisticRegression(max_iter=5000)\n",
        "\n",
        "# Otimização de hiperparâmetros com GridSearchCV\n",
        "param_grid = {\n",
        "    \"Decision Tree\": {\"max_depth\": [3, 5, 10, None], \"min_samples_split\": [2, 5, 10]},\n",
        "    \"Logistic Regression\": {\n",
        "        \"C\": [0.1, 1, 10, 100],\n",
        "        \"solver\": ['lbfgs', 'liblinear']  # Focando em solvers que geralmente convergem bem\n",
        "    },\n",
        "    \"Random Forest\": {\"n_estimators\": [10, 50, 100], \"max_features\": ['auto', 'sqrt', 'log2']}\n",
        "}\n",
        "\n",
        "# Garantir que best_model_name está definido - substituir pelo nome do seu modelo real\n",
        "best_model_name = \"Logistic Regression\"\n",
        "\n",
        "grid_search = GridSearchCV(best_model, param_grid[best_model_name], cv=5, scoring='roc_auc')\n",
        "grid_search.fit(X_train_scaled, y_train)\n",
        "\n",
        "print(f\"Melhores hiperparâmetros para {best_model_name}: {grid_search.best_params_}\")\n"
      ],
      "metadata": {
        "id": "ubVouC9GBioK",
        "colab": {
          "base_uri": "https://localhost:8080/"
        },
        "outputId": "6e774422-8fe7-4184-95ce-9d2499cd8457"
      },
      "execution_count": null,
      "outputs": [
        {
          "output_type": "stream",
          "name": "stdout",
          "text": [
            "Melhores hiperparâmetros para Logistic Regression: {'C': 0.1, 'solver': 'liblinear'}\n"
          ]
        }
      ]
    },
    {
      "cell_type": "markdown",
      "source": [
        "**Melhoria de Hiperparâmetros**"
      ],
      "metadata": {
        "id": "27FyRYaXgOZQ"
      }
    },
    {
      "cell_type": "code",
      "source": [
        "from sklearn.metrics import classification_report, confusion_matrix, roc_auc_score\n",
        "\n",
        "# Treinar o modelo final com os melhores hiperparâmetros\n",
        "final_model = LogisticRegression(C=0.1, solver='liblinear', max_iter=5000)\n",
        "final_model.fit(X_train_scaled, y_train)\n",
        "\n",
        "# Fazer previsões no conjunto de teste\n",
        "y_pred = final_model.predict(X_test_scaled)\n",
        "y_pred_proba = final_model.predict_proba(X_test_scaled)[:, 1]\n",
        "\n",
        "# Avaliar o desempenho\n",
        "print(\"Classification Report:\\n\", classification_report(y_test, y_pred))\n",
        "print(\"Confusion Matrix:\\n\", confusion_matrix(y_test, y_pred))\n",
        "print(\"ROC AUC Score:\", roc_auc_score(y_test, y_pred_proba))\n"
      ],
      "metadata": {
        "id": "spM-Z8vLycOB",
        "colab": {
          "base_uri": "https://localhost:8080/"
        },
        "outputId": "050c51eb-fe34-475e-e64b-2607ae9e02f8"
      },
      "execution_count": null,
      "outputs": [
        {
          "output_type": "stream",
          "name": "stdout",
          "text": [
            "Classification Report:\n",
            "               precision    recall  f1-score   support\n",
            "\n",
            "           0       0.99      1.00      0.99     11788\n",
            "           1       0.67      0.42      0.51       212\n",
            "\n",
            "    accuracy                           0.99     12000\n",
            "   macro avg       0.83      0.71      0.75     12000\n",
            "weighted avg       0.98      0.99      0.98     12000\n",
            "\n",
            "Confusion Matrix:\n",
            " [[11744    44]\n",
            " [  124    88]]\n",
            "ROC AUC Score: 0.9639327810181124\n"
          ]
        }
      ]
    },
    {
      "cell_type": "code",
      "source": [
        "import numpy as np\n",
        "from imblearn.over_sampling import SMOTE\n",
        "from sklearn.ensemble import RandomForestClassifier\n",
        "from sklearn.metrics import classification_report, confusion_matrix, roc_auc_score\n",
        "from sklearn.model_selection import train_test_split\n",
        "\n",
        "# Dividindo os dados em treino e teste\n",
        "X_train, X_test, y_train, y_test = train_test_split(X, y, test_size=0.2, random_state=42)\n",
        "\n",
        "# Aplicando SMOTE para balancear as classes\n",
        "smote = SMOTE(random_state=42)\n",
        "X_train_balanced, y_train_balanced = smote.fit_resample(X_train, y_train)\n",
        "\n",
        "# Treinando o modelo com os dados balanceados\n",
        "model = RandomForestClassifier(n_estimators=100, random_state=42)\n",
        "model.fit(X_train_balanced, y_train_balanced)\n",
        "\n",
        "# Previsões\n",
        "y_pred = model.predict(X_test)\n",
        "y_prob = model.predict_proba(X_test)[:, 1]\n",
        "\n",
        "# Avaliação\n",
        "print(\"Classification Report:\\n\", classification_report(y_test, y_pred))\n",
        "print(\"Confusion Matrix:\\n\", confusion_matrix(y_test, y_pred))\n",
        "print(\"ROC AUC Score:\", roc_auc_score(y_test, y_prob))\n"
      ],
      "metadata": {
        "id": "VZKjEVbky2F8",
        "colab": {
          "base_uri": "https://localhost:8080/"
        },
        "outputId": "a4e20bbf-d718-4eab-843b-59cee3b74aa1"
      },
      "execution_count": null,
      "outputs": [
        {
          "output_type": "stream",
          "name": "stdout",
          "text": [
            "Classification Report:\n",
            "               precision    recall  f1-score   support\n",
            "\n",
            "           0       0.99      0.99      0.99     11788\n",
            "           1       0.71      0.70      0.70       212\n",
            "\n",
            "    accuracy                           0.99     12000\n",
            "   macro avg       0.85      0.85      0.85     12000\n",
            "weighted avg       0.99      0.99      0.99     12000\n",
            "\n",
            "Confusion Matrix:\n",
            " [[11727    61]\n",
            " [   64   148]]\n",
            "ROC AUC Score: 0.9831510378318854\n"
          ]
        }
      ]
    },
    {
      "cell_type": "code",
      "source": [
        "from imblearn.over_sampling import SMOTE\n",
        "from sklearn.ensemble import GradientBoostingClassifier\n",
        "from sklearn.metrics import classification_report, confusion_matrix, roc_auc_score\n",
        "from sklearn.model_selection import train_test_split\n",
        "\n",
        "# Dividindo os dados em treino e teste\n",
        "X_train, X_test, y_train, y_test = train_test_split(X, y, test_size=0.2, random_state=42)\n",
        "\n",
        "# Aplicando SMOTE para balancear as classes\n",
        "smote = SMOTE(random_state=42)\n",
        "X_train_balanced, y_train_balanced = smote.fit_resample(X_train, y_train)\n",
        "\n",
        "# Treinando o modelo com os dados balanceados\n",
        "model = GradientBoostingClassifier(n_estimators=100, learning_rate=0.1, random_state=42)\n",
        "model.fit(X_train_balanced, y_train_balanced)\n",
        "\n",
        "# Previsões\n",
        "y_pred = model.predict(X_test)\n",
        "y_prob = model.predict_proba(X_test)[:, 1]\n",
        "\n",
        "# Avaliação\n",
        "print(\"Classification Report:\\n\", classification_report(y_test, y_pred))\n",
        "print(\"Confusion Matrix:\\n\", confusion_matrix(y_test, y_pred))\n",
        "print(\"ROC AUC Score:\", roc_auc_score(y_test, y_prob))\n"
      ],
      "metadata": {
        "colab": {
          "base_uri": "https://localhost:8080/"
        },
        "id": "QtwgtNyTYvDg",
        "outputId": "b829932b-ca64-41cd-884a-6e88545956b2"
      },
      "execution_count": null,
      "outputs": [
        {
          "output_type": "stream",
          "name": "stdout",
          "text": [
            "Classification Report:\n",
            "               precision    recall  f1-score   support\n",
            "\n",
            "           0       1.00      0.98      0.99     11788\n",
            "           1       0.42      0.80      0.55       212\n",
            "\n",
            "    accuracy                           0.98     12000\n",
            "   macro avg       0.71      0.89      0.77     12000\n",
            "weighted avg       0.99      0.98      0.98     12000\n",
            "\n",
            "Confusion Matrix:\n",
            " [[11559   229]\n",
            " [   43   169]]\n",
            "ROC AUC Score: 0.9808223585225782\n"
          ]
        }
      ]
    },
    {
      "cell_type": "code",
      "source": [
        "from imblearn.over_sampling import SMOTE\n",
        "from lightgbm import LGBMClassifier\n",
        "from sklearn.metrics import classification_report, confusion_matrix, roc_auc_score\n",
        "from sklearn.model_selection import train_test_split\n",
        "\n",
        "# Dividir os dados em treino e teste\n",
        "X_train, X_test, y_train, y_test = train_test_split(X, y, test_size=0.2, random_state=42)\n",
        "\n",
        "# Aplicando SMOTE para balancear as classes\n",
        "smote = SMOTE(random_state=42)\n",
        "X_train_balanced, y_train_balanced = smote.fit_resample(X_train, y_train)\n",
        "\n",
        "# Treinando o modelo com os dados balanceados\n",
        "model = LGBMClassifier(n_estimators=100, learning_rate=0.1, random_state=42)\n",
        "model.fit(X_train_balanced, y_train_balanced)\n",
        "\n",
        "# Previsões\n",
        "y_pred = model.predict(X_test)\n",
        "y_prob = model.predict_proba(X_test)[:, 1]\n",
        "\n",
        "# Avaliação\n",
        "print(\"Classification Report:\\n\", classification_report(y_test, y_pred))\n",
        "print(\"Confusion Matrix:\\n\", confusion_matrix(y_test, y_pred))\n",
        "print(\"ROC AUC Score:\", roc_auc_score(y_test, y_prob))\n"
      ],
      "metadata": {
        "colab": {
          "base_uri": "https://localhost:8080/"
        },
        "id": "qEVe9LI6ch7A",
        "outputId": "8ebd45e7-95ee-4647-d4f8-1c1942a8a925"
      },
      "execution_count": null,
      "outputs": [
        {
          "output_type": "stream",
          "name": "stdout",
          "text": [
            "[LightGBM] [Info] Number of positive: 47212, number of negative: 47212\n",
            "[LightGBM] [Info] Auto-choosing col-wise multi-threading, the overhead of testing was 0.265315 seconds.\n",
            "You can set `force_col_wise=true` to remove the overhead.\n",
            "[LightGBM] [Info] Total Bins 40129\n",
            "[LightGBM] [Info] Number of data points in the train set: 94424, number of used features: 170\n",
            "[LightGBM] [Info] [binary:BoostFromScore]: pavg=0.500000 -> initscore=0.000000\n",
            "Classification Report:\n",
            "               precision    recall  f1-score   support\n",
            "\n",
            "           0       1.00      0.99      0.99     11788\n",
            "           1       0.65      0.77      0.71       212\n",
            "\n",
            "    accuracy                           0.99     12000\n",
            "   macro avg       0.82      0.88      0.85     12000\n",
            "weighted avg       0.99      0.99      0.99     12000\n",
            "\n",
            "Confusion Matrix:\n",
            " [[11701    87]\n",
            " [   49   163]]\n",
            "ROC AUC Score: 0.9832036577011478\n"
          ]
        }
      ]
    },
    {
      "cell_type": "markdown",
      "source": [],
      "metadata": {
        "id": "A1nFDu22VDRO"
      }
    },
    {
      "cell_type": "markdown",
      "source": [
        "**Colocando o Modelo em Produção**"
      ],
      "metadata": {
        "id": "mKQzt26silKX"
      }
    },
    {
      "cell_type": "code",
      "source": [
        "from sklearn.model_selection import GridSearchCV\n",
        "from sklearn.linear_model import LogisticRegression\n",
        "from sklearn.preprocessing import StandardScaler\n",
        "from sklearn.pipeline import Pipeline\n",
        "from sklearn.exceptions import ConvergenceWarning\n",
        "import warnings\n",
        "\n",
        "# Ignorando os avisos de convergência\n",
        "warnings.filterwarnings(\"ignore\", category=ConvergenceWarning)\n",
        "\n",
        "# Separando as features e o alvo\n",
        "X = df.drop(columns=['class'])  # Substitua 'target' pelo nome da sua coluna alvo\n",
        "y = df['class']\n",
        "\n",
        "# Definindo o pipeline de pré-processamento e modelo\n",
        "pipeline = Pipeline([\n",
        "    ('scaler', StandardScaler()),\n",
        "    ('logistic_regression', LogisticRegression())\n",
        "])\n",
        "\n",
        "# Otimização de hiperparâmetros com GridSearchCV\n",
        "param_grid = {\n",
        "    'logistic_regression__C': [0.1, 1, 10, 100],\n",
        "    'logistic_regression__solver': ['lbfgs', 'saga'],\n",
        "    'logistic_regression__max_iter': [2000]\n",
        "}\n",
        "\n",
        "# Criando o GridSearchCV\n",
        "grid_search = GridSearchCV(pipeline, param_grid, cv=5, scoring='roc_auc')\n",
        "\n",
        "# Treinar o modelo\n",
        "grid_search.fit(X, y)\n",
        "\n",
        "# Salvando o melhor modelo encontrado\n",
        "best_model = grid_search.best_estimator_\n",
        "import joblib\n",
        "joblib.dump(best_model, 'best_model.pkl')\n",
        "\n",
        "# Carregando o modelo (em um ambiente de produção)\n",
        "loaded_model = joblib.load('best_model.pkl')\n",
        "\n",
        "# Fazer previsões em novos dados\n",
        "# new_data deve ser um DataFrame com a mesma estrutura que o usado para treinar o modelo\n",
        "new_data = pd.DataFrame([[...]], columns=X.columns)\n",
        "new_predictions = loaded_model.predict(new_data)\n",
        "\n",
        "print(f\"Melhores hiperparâmetros para Logistic Regression: {grid_search.best_params_}\")\n",
        "print(new_predictions)\n"
      ],
      "metadata": {
        "id": "GNMdJKKC2B0U"
      },
      "execution_count": null,
      "outputs": []
    },
    {
      "cell_type": "code",
      "source": [],
      "metadata": {
        "id": "fnwqbYXLYlaw"
      },
      "execution_count": null,
      "outputs": []
    }
  ],
  "metadata": {
    "colab": {
      "provenance": [],
      "include_colab_link": true
    },
    "kernelspec": {
      "display_name": "Python 3",
      "name": "python3"
    }
  },
  "nbformat": 4,
  "nbformat_minor": 0
}